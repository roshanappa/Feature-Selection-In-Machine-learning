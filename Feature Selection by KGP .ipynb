{
 "cells": [
  {
   "cell_type": "markdown",
   "metadata": {},
   "source": [
    "Feature selection and cleaning dataset is the first aim before the machine learning.\n",
    "Because if we go for the machine larning with the some irrelevant feature that time we will get the undesirable OUTPUT or negetive we can say.\n",
    "so to get the more precise output or model we have to remove the some unwanted feature from datasets which are causing the Negetive impact on the model.\n",
    "If we work for the unwated data and train model for them it leads to waste of your time."
   ]
  },
  {
   "cell_type": "markdown",
   "metadata": {},
   "source": [
    "### Why Feature Selection ?"
   ]
  },
  {
   "cell_type": "markdown",
   "metadata": {},
   "source": [
    "1.Shorter the training time"
   ]
  },
  {
   "cell_type": "markdown",
   "metadata": {},
   "source": [
    "2.Eaiser to interpret model - by the diamesionality from high to low"
   ]
  },
  {
   "cell_type": "markdown",
   "metadata": {},
   "source": [
    "3.Reduce Overfitting\n"
   ]
  },
  {
   "cell_type": "markdown",
   "metadata": {},
   "source": [
    "4.Improve the Accuracy"
   ]
  },
  {
   "cell_type": "markdown",
   "metadata": {},
   "source": [
    "### Feature Selection Method :-"
   ]
  },
  {
   "cell_type": "markdown",
   "metadata": {},
   "source": [
    "1.Filter Methods"
   ]
  },
  {
   "cell_type": "markdown",
   "metadata": {},
   "source": [
    "2.Wrapper Methods"
   ]
  },
  {
   "cell_type": "markdown",
   "metadata": {},
   "source": [
    "3.Embedded Methods"
   ]
  },
  {
   "cell_type": "markdown",
   "metadata": {},
   "source": [
    "### Filter Methods"
   ]
  },
  {
   "cell_type": "markdown",
   "metadata": {},
   "source": [
    "Its done by using the preprocessing method."
   ]
  },
  {
   "cell_type": "markdown",
   "metadata": {},
   "source": [
    "the selection of feature is indepnded on any machine learning algorithm in this filtering method."
   ]
  },
  {
   "cell_type": "markdown",
   "metadata": {},
   "source": [
    "Feature are the selected on the basis of their score ,various stastical test,co-relation with the outcome variable."
   ]
  },
  {
   "cell_type": "markdown",
   "metadata": {},
   "source": [
    "Those stastical test can be done by with the chi-square,fisher square,anova,mutual information,variance."
   ]
  },
  {
   "cell_type": "markdown",
   "metadata": {},
   "source": [
    "It uses the individual feature predictive power."
   ]
  },
  {
   "cell_type": "markdown",
   "metadata": {},
   "source": [
    "It is less computationally expensive."
   ]
  },
  {
   "cell_type": "markdown",
   "metadata": {},
   "source": [
    "Uses the corelaton power on feature to target space."
   ]
  },
  {
   "cell_type": "markdown",
   "metadata": {},
   "source": [
    "Usefull to quick screening."
   ]
  },
  {
   "cell_type": "markdown",
   "metadata": {},
   "source": [
    "### Wrapper Methods"
   ]
  },
  {
   "cell_type": "markdown",
   "metadata": {},
   "source": [
    "1.In the warpper method we try to use the subset of the features and train our model by using those."
   ]
  },
  {
   "cell_type": "markdown",
   "metadata": {},
   "source": [
    "2.Based on the inferrence that we draw from the previous model we decide to add or remove features from the subsets."
   ]
  },
  {
   "cell_type": "markdown",
   "metadata": {},
   "source": [
    "3.the problem essentially reduce to search problem actually that means."
   ]
  },
  {
   "cell_type": "markdown",
   "metadata": {},
   "source": [
    "4.there is lots of the feature in that we need to select subset of the feature where we can maximiz the preformace of our model."
   ]
  },
  {
   "cell_type": "markdown",
   "metadata": {},
   "source": [
    "5.since,we trying to do with the help of the combination of the avaliable features."
   ]
  },
  {
   "cell_type": "markdown",
   "metadata": {},
   "source": [
    "use the combinations varibles to determine predictive power."
   ]
  },
  {
   "cell_type": "markdown",
   "metadata": {},
   "source": [
    "Find the best combination of the variable."
   ]
  },
  {
   "cell_type": "markdown",
   "metadata": {},
   "source": [
    "Its computationally expensive than the filter method."
   ]
  },
  {
   "cell_type": "markdown",
   "metadata": {},
   "source": [
    "Its not recommnded on the High numbers of features."
   ]
  },
  {
   "cell_type": "markdown",
   "metadata": {},
   "source": [
    "### Types Of Wrapper Methods :-"
   ]
  },
  {
   "cell_type": "markdown",
   "metadata": {},
   "source": [
    "cycle of the wrapper is method-"
   ]
  },
  {
   "cell_type": "markdown",
   "metadata": {},
   "source": [
    "1.Set of the all features which are avlible in the datasets \n",
    "                               "
   ]
  },
  {
   "cell_type": "markdown",
   "metadata": {},
   "source": [
    "2.Generate the subsets \n",
    "             "
   ]
  },
  {
   "cell_type": "markdown",
   "metadata": {},
   "source": [
    "3.Train the subsets to the ml algorithms                       \n",
    " "
   ]
  },
  {
   "cell_type": "markdown",
   "metadata": {},
   "source": [
    "4.After we will get the performance"
   ]
  },
  {
   "cell_type": "markdown",
   "metadata": {},
   "source": [
    "#### Subset Selection(Exhaustive feature selection)\n",
    "#### Foreward Step Selection\n",
    "#### Backward step selection (Recursive Feature selection)"
   ]
  },
  {
   "cell_type": "code",
   "execution_count": null,
   "metadata": {},
   "outputs": [],
   "source": []
  },
  {
   "cell_type": "markdown",
   "metadata": {},
   "source": [
    "#### Foreward step selection:-"
   ]
  },
  {
   "cell_type": "markdown",
   "metadata": {},
   "source": [
    "It creates the number of the subset of the feature.\n",
    "Machine learning algorithm try to compute the performancce of evey feature subset individualy and then choose one of them whoever give\n",
    "us the best performance. \n",
    "Afterwards,it tries to get the combinations with the remaing features (like the feature which did not give us the better preformace last time)\n",
    "then one of whihch combination whoever will give us te best performance we have to select it AND \n",
    "do it same way untill and unless we will not get the desirable feature where we want to put. is \n",
    "Overall,It steping the foreward manner and turn by turn use the ml algorithm to train the model to get the best feature set."
   ]
  },
  {
   "cell_type": "markdown",
   "metadata": {},
   "source": [
    "for an example:-"
   ]
  },
  {
   "cell_type": "markdown",
   "metadata": {},
   "source": [
    "If we having the 100 features and if we want to select only top 10 feature so in that we will go for this one from 1 to 10 step by step."
   ]
  },
  {
   "cell_type": "markdown",
   "metadata": {},
   "source": [
    "#### Backward step selection:-"
   ]
  },
  {
   "cell_type": "markdown",
   "metadata": {},
   "source": [
    "First we try to get the performance of all the features by using the ml model and give them trainng and then we try to remove.\n",
    "One featute then we check the performce if not get the required then we have to same thing again and again until and unless \n",
    "we will get the desired features selection."
   ]
  },
  {
   "cell_type": "markdown",
   "metadata": {},
   "source": [
    "For an Example : we having the 100 features and from which we select the only ten features.\n",
    "So for that if will get the start in this case from the 100 and then step by step reducing the feature 99,98... upto the 10 features.\n",
    "We will get the 10 features which will give us the maximum performance."
   ]
  },
  {
   "cell_type": "code",
   "execution_count": null,
   "metadata": {},
   "outputs": [],
   "source": []
  },
  {
   "cell_type": "markdown",
   "metadata": {},
   "source": [
    "### Wrapper Methods(Exhaustive feature selection)"
   ]
  },
  {
   "cell_type": "markdown",
   "metadata": {},
   "source": [
    "Wrapper method is subset selection method."
   ]
  },
  {
   "cell_type": "markdown",
   "metadata": {},
   "source": [
    "Fit the model with each possible combinations of N features."
   ]
  },
  {
   "cell_type": "markdown",
   "metadata": {},
   "source": [
    "It's required the massive computational power \n",
    "generally its avoided in the machine algorithms because it not in use right now."
   ]
  },
  {
   "cell_type": "markdown",
   "metadata": {},
   "source": [
    "#### Differnce between filter and wrapper method"
   ]
  },
  {
   "cell_type": "markdown",
   "metadata": {},
   "source": [
    "Filter method-it measure the relevance of the feature by their co-relation with the depended variable that means featured space."
   ]
  },
  {
   "cell_type": "markdown",
   "metadata": {},
   "source": [
    "While wrapper method is use to measure usefullness of subset of feature by actually training a model on it."
   ]
  },
  {
   "cell_type": "markdown",
   "metadata": {},
   "source": [
    "That means in the filter method doesnt apply any machine learning algorithm"
   ]
  },
  {
   "cell_type": "markdown",
   "metadata": {},
   "source": [
    "But the wrapper uses machine learning algorithm to test usefullness of the of the selected feature."
   ]
  },
  {
   "cell_type": "markdown",
   "metadata": {},
   "source": [
    "Fiter method is much faster compare to the wrapper method as they do not use ml algorithm and they do not try to train any model. "
   ]
  },
  {
   "cell_type": "markdown",
   "metadata": {},
   "source": [
    "On the other hand the wrapper computationally very expensive and try to do train the model everytime."
   ]
  },
  {
   "cell_type": "markdown",
   "metadata": {},
   "source": [
    "Fiter method use the some stastical methods to features while wrapper uses the cross validation."
   ]
  },
  {
   "cell_type": "markdown",
   "metadata": {},
   "source": [
    "Filter method might failed to find the bset subset of the feature many occasion."
   ]
  },
  {
   "cell_type": "markdown",
   "metadata": {},
   "source": [
    "But wrapper method can alsways provide best subset of the feature and using the subset of the feature of the wrapper method"
   ]
  },
  {
   "cell_type": "markdown",
   "metadata": {},
   "source": [
    "It makes the model more prone to the overfitting as compare to the using the subset of the feature with the help of the filter method."
   ]
  },
  {
   "cell_type": "code",
   "execution_count": null,
   "metadata": {},
   "outputs": [],
   "source": []
  },
  {
   "cell_type": "markdown",
   "metadata": {},
   "source": [
    "### Embedded Methods"
   ]
  },
  {
   "cell_type": "markdown",
   "metadata": {},
   "source": [
    "It combining the qualities of the filter and wrapper method.It implementing the with the algorithms that have their own builting"
   ]
  },
  {
   "cell_type": "markdown",
   "metadata": {},
   "source": [
    "Feature selection methods some of the mose popular example:- LASSO,RIDGE regression and Tree importance."
   ]
  },
  {
   "cell_type": "markdown",
   "metadata": {},
   "source": [
    "Lasso regression - It perforce the l1 regularization which add the penalty equivalent to the absolute value of the magnitude of the coefficient."
   ]
  },
  {
   "cell_type": "markdown",
   "metadata": {},
   "source": [
    "Ridge regression:-It performs the L2 regularization which adds the penalty to the equivalent to the square of the magnitude of the coefficient."
   ]
  },
  {
   "cell_type": "markdown",
   "metadata": {},
   "source": [
    "Tree Importance:-It gives the score of each features and uses tree based classifier to gets the importance of each individual features."
   ]
  },
  {
   "cell_type": "markdown",
   "metadata": {},
   "source": [
    "Embedded method is faster than the wrapper method "
   ]
  },
  {
   "cell_type": "markdown",
   "metadata": {},
   "source": [
    "It is more accurate than the filter method."
   ]
  },
  {
   "cell_type": "markdown",
   "metadata": {},
   "source": [
    "It performce the feature selection during the algorithm implementation that why it known as 'embedded'"
   ]
  },
  {
   "cell_type": "code",
   "execution_count": null,
   "metadata": {},
   "outputs": [],
   "source": []
  },
  {
   "cell_type": "code",
   "execution_count": null,
   "metadata": {},
   "outputs": [],
   "source": []
  }
 ],
 "metadata": {
  "kernelspec": {
   "display_name": "Python 3",
   "language": "python",
   "name": "python3"
  },
  "language_info": {
   "codemirror_mode": {
    "name": "ipython",
    "version": 3
   },
   "file_extension": ".py",
   "mimetype": "text/x-python",
   "name": "python",
   "nbconvert_exporter": "python",
   "pygments_lexer": "ipython3",
   "version": "3.7.4"
  }
 },
 "nbformat": 4,
 "nbformat_minor": 2
}
