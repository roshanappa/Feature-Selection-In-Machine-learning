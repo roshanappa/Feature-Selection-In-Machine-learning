{
 "cells": [
  {
   "cell_type": "markdown",
   "metadata": {},
   "source": [
    "#### Part :1 (fiter method used to get the unique features)"
   ]
  },
  {
   "cell_type": "code",
   "execution_count": 3,
   "metadata": {},
   "outputs": [],
   "source": [
    "import numpy as np\n",
    "import matplotlib.pyplot as plt \n",
    "import pandas as pd\n",
    "import seaborn as sns\n",
    "%matplotlib inline "
   ]
  },
  {
   "cell_type": "code",
   "execution_count": 4,
   "metadata": {},
   "outputs": [],
   "source": [
    "from sklearn.feature_selection import VarianceThreshold\n",
    "from sklearn.ensemble import RandomForestClassifier\n",
    "from sklearn.model_selection import train_test_split\n",
    "from sklearn.metrics import accuracy_score"
   ]
  },
  {
   "cell_type": "code",
   "execution_count": 5,
   "metadata": {},
   "outputs": [
    {
     "data": {
      "text/html": [
       "<div>\n",
       "<style scoped>\n",
       "    .dataframe tbody tr th:only-of-type {\n",
       "        vertical-align: middle;\n",
       "    }\n",
       "\n",
       "    .dataframe tbody tr th {\n",
       "        vertical-align: top;\n",
       "    }\n",
       "\n",
       "    .dataframe thead th {\n",
       "        text-align: right;\n",
       "    }\n",
       "</style>\n",
       "<table border=\"1\" class=\"dataframe\">\n",
       "  <thead>\n",
       "    <tr style=\"text-align: right;\">\n",
       "      <th></th>\n",
       "      <th>ID</th>\n",
       "      <th>var3</th>\n",
       "      <th>var15</th>\n",
       "      <th>imp_ent_var16_ult1</th>\n",
       "      <th>imp_op_var39_comer_ult1</th>\n",
       "      <th>imp_op_var39_comer_ult3</th>\n",
       "      <th>imp_op_var40_comer_ult1</th>\n",
       "      <th>imp_op_var40_comer_ult3</th>\n",
       "      <th>imp_op_var40_efect_ult1</th>\n",
       "      <th>imp_op_var40_efect_ult3</th>\n",
       "      <th>...</th>\n",
       "      <th>saldo_medio_var33_hace2</th>\n",
       "      <th>saldo_medio_var33_hace3</th>\n",
       "      <th>saldo_medio_var33_ult1</th>\n",
       "      <th>saldo_medio_var33_ult3</th>\n",
       "      <th>saldo_medio_var44_hace2</th>\n",
       "      <th>saldo_medio_var44_hace3</th>\n",
       "      <th>saldo_medio_var44_ult1</th>\n",
       "      <th>saldo_medio_var44_ult3</th>\n",
       "      <th>var38</th>\n",
       "      <th>TARGET</th>\n",
       "    </tr>\n",
       "  </thead>\n",
       "  <tbody>\n",
       "    <tr>\n",
       "      <td>0</td>\n",
       "      <td>1</td>\n",
       "      <td>2</td>\n",
       "      <td>23</td>\n",
       "      <td>0.0</td>\n",
       "      <td>0.0</td>\n",
       "      <td>0.0</td>\n",
       "      <td>0.0</td>\n",
       "      <td>0.0</td>\n",
       "      <td>0</td>\n",
       "      <td>0</td>\n",
       "      <td>...</td>\n",
       "      <td>0.0</td>\n",
       "      <td>0.0</td>\n",
       "      <td>0.0</td>\n",
       "      <td>0.0</td>\n",
       "      <td>0.0</td>\n",
       "      <td>0.0</td>\n",
       "      <td>0.0</td>\n",
       "      <td>0.0</td>\n",
       "      <td>39205.170000</td>\n",
       "      <td>0</td>\n",
       "    </tr>\n",
       "    <tr>\n",
       "      <td>1</td>\n",
       "      <td>3</td>\n",
       "      <td>2</td>\n",
       "      <td>34</td>\n",
       "      <td>0.0</td>\n",
       "      <td>0.0</td>\n",
       "      <td>0.0</td>\n",
       "      <td>0.0</td>\n",
       "      <td>0.0</td>\n",
       "      <td>0</td>\n",
       "      <td>0</td>\n",
       "      <td>...</td>\n",
       "      <td>0.0</td>\n",
       "      <td>0.0</td>\n",
       "      <td>0.0</td>\n",
       "      <td>0.0</td>\n",
       "      <td>0.0</td>\n",
       "      <td>0.0</td>\n",
       "      <td>0.0</td>\n",
       "      <td>0.0</td>\n",
       "      <td>49278.030000</td>\n",
       "      <td>0</td>\n",
       "    </tr>\n",
       "    <tr>\n",
       "      <td>2</td>\n",
       "      <td>4</td>\n",
       "      <td>2</td>\n",
       "      <td>23</td>\n",
       "      <td>0.0</td>\n",
       "      <td>0.0</td>\n",
       "      <td>0.0</td>\n",
       "      <td>0.0</td>\n",
       "      <td>0.0</td>\n",
       "      <td>0</td>\n",
       "      <td>0</td>\n",
       "      <td>...</td>\n",
       "      <td>0.0</td>\n",
       "      <td>0.0</td>\n",
       "      <td>0.0</td>\n",
       "      <td>0.0</td>\n",
       "      <td>0.0</td>\n",
       "      <td>0.0</td>\n",
       "      <td>0.0</td>\n",
       "      <td>0.0</td>\n",
       "      <td>67333.770000</td>\n",
       "      <td>0</td>\n",
       "    </tr>\n",
       "    <tr>\n",
       "      <td>3</td>\n",
       "      <td>8</td>\n",
       "      <td>2</td>\n",
       "      <td>37</td>\n",
       "      <td>0.0</td>\n",
       "      <td>195.0</td>\n",
       "      <td>195.0</td>\n",
       "      <td>0.0</td>\n",
       "      <td>0.0</td>\n",
       "      <td>0</td>\n",
       "      <td>0</td>\n",
       "      <td>...</td>\n",
       "      <td>0.0</td>\n",
       "      <td>0.0</td>\n",
       "      <td>0.0</td>\n",
       "      <td>0.0</td>\n",
       "      <td>0.0</td>\n",
       "      <td>0.0</td>\n",
       "      <td>0.0</td>\n",
       "      <td>0.0</td>\n",
       "      <td>64007.970000</td>\n",
       "      <td>0</td>\n",
       "    </tr>\n",
       "    <tr>\n",
       "      <td>4</td>\n",
       "      <td>10</td>\n",
       "      <td>2</td>\n",
       "      <td>39</td>\n",
       "      <td>0.0</td>\n",
       "      <td>0.0</td>\n",
       "      <td>0.0</td>\n",
       "      <td>0.0</td>\n",
       "      <td>0.0</td>\n",
       "      <td>0</td>\n",
       "      <td>0</td>\n",
       "      <td>...</td>\n",
       "      <td>0.0</td>\n",
       "      <td>0.0</td>\n",
       "      <td>0.0</td>\n",
       "      <td>0.0</td>\n",
       "      <td>0.0</td>\n",
       "      <td>0.0</td>\n",
       "      <td>0.0</td>\n",
       "      <td>0.0</td>\n",
       "      <td>117310.979016</td>\n",
       "      <td>0</td>\n",
       "    </tr>\n",
       "  </tbody>\n",
       "</table>\n",
       "<p>5 rows × 371 columns</p>\n",
       "</div>"
      ],
      "text/plain": [
       "   ID  var3  var15  imp_ent_var16_ult1  imp_op_var39_comer_ult1  \\\n",
       "0   1     2     23                 0.0                      0.0   \n",
       "1   3     2     34                 0.0                      0.0   \n",
       "2   4     2     23                 0.0                      0.0   \n",
       "3   8     2     37                 0.0                    195.0   \n",
       "4  10     2     39                 0.0                      0.0   \n",
       "\n",
       "   imp_op_var39_comer_ult3  imp_op_var40_comer_ult1  imp_op_var40_comer_ult3  \\\n",
       "0                      0.0                      0.0                      0.0   \n",
       "1                      0.0                      0.0                      0.0   \n",
       "2                      0.0                      0.0                      0.0   \n",
       "3                    195.0                      0.0                      0.0   \n",
       "4                      0.0                      0.0                      0.0   \n",
       "\n",
       "   imp_op_var40_efect_ult1  imp_op_var40_efect_ult3  ...  \\\n",
       "0                        0                        0  ...   \n",
       "1                        0                        0  ...   \n",
       "2                        0                        0  ...   \n",
       "3                        0                        0  ...   \n",
       "4                        0                        0  ...   \n",
       "\n",
       "   saldo_medio_var33_hace2  saldo_medio_var33_hace3  saldo_medio_var33_ult1  \\\n",
       "0                      0.0                      0.0                     0.0   \n",
       "1                      0.0                      0.0                     0.0   \n",
       "2                      0.0                      0.0                     0.0   \n",
       "3                      0.0                      0.0                     0.0   \n",
       "4                      0.0                      0.0                     0.0   \n",
       "\n",
       "   saldo_medio_var33_ult3  saldo_medio_var44_hace2  saldo_medio_var44_hace3  \\\n",
       "0                     0.0                      0.0                      0.0   \n",
       "1                     0.0                      0.0                      0.0   \n",
       "2                     0.0                      0.0                      0.0   \n",
       "3                     0.0                      0.0                      0.0   \n",
       "4                     0.0                      0.0                      0.0   \n",
       "\n",
       "   saldo_medio_var44_ult1  saldo_medio_var44_ult3          var38  TARGET  \n",
       "0                     0.0                     0.0   39205.170000       0  \n",
       "1                     0.0                     0.0   49278.030000       0  \n",
       "2                     0.0                     0.0   67333.770000       0  \n",
       "3                     0.0                     0.0   64007.970000       0  \n",
       "4                     0.0                     0.0  117310.979016       0  \n",
       "\n",
       "[5 rows x 371 columns]"
      ]
     },
     "execution_count": 5,
     "metadata": {},
     "output_type": "execute_result"
    }
   ],
   "source": [
    "data = pd.read_csv('santander-train.csv',nrows=2000)\n",
    "data.head()"
   ]
  },
  {
   "cell_type": "code",
   "execution_count": 6,
   "metadata": {},
   "outputs": [
    {
     "data": {
      "text/plain": [
       "((2000, 370), (2000,))"
      ]
     },
     "execution_count": 6,
     "metadata": {},
     "output_type": "execute_result"
    }
   ],
   "source": [
    "x = data.drop( labels='TARGET',axis=1)\n",
    "y = data['TARGET']\n",
    "\n",
    "x.shape,y.shape"
   ]
  },
  {
   "cell_type": "code",
   "execution_count": 7,
   "metadata": {},
   "outputs": [
    {
     "data": {
      "text/plain": [
       "((1600, 370), (400, 370))"
      ]
     },
     "execution_count": 7,
     "metadata": {},
     "output_type": "execute_result"
    }
   ],
   "source": [
    "x_train,x_test,y_train,y_test = train_test_split(x,y,train_size =.80,random_state=0,stratify=y)\n",
    "\n",
    "x_train.shape,x_test.shape"
   ]
  },
  {
   "cell_type": "markdown",
   "metadata": {},
   "source": [
    "Remove constant,quaisi and duplicate"
   ]
  },
  {
   "cell_type": "code",
   "execution_count": 8,
   "metadata": {},
   "outputs": [],
   "source": [
    "#remove constant and quaisi constant"
   ]
  },
  {
   "cell_type": "code",
   "execution_count": 9,
   "metadata": {},
   "outputs": [
    {
     "data": {
      "text/plain": [
       "((1600, 223), (400, 223))"
      ]
     },
     "execution_count": 9,
     "metadata": {},
     "output_type": "execute_result"
    }
   ],
   "source": [
    "constant_filter = VarianceThreshold(threshold=0.01)\n",
    "constant_filter.fit(x_train)\n",
    "x_train_filter = constant_filter.transform(x_train)\n",
    "x_test_filter  = constant_filter.transform(x_test)\n",
    "\n",
    "x_train_filter.shape,x_test_filter.shape"
   ]
  },
  {
   "cell_type": "code",
   "execution_count": 10,
   "metadata": {},
   "outputs": [],
   "source": [
    "#Duplicate feature removal"
   ]
  },
  {
   "cell_type": "code",
   "execution_count": 11,
   "metadata": {},
   "outputs": [
    {
     "data": {
      "text/plain": [
       "((1600, 200), (400, 200))"
      ]
     },
     "execution_count": 11,
     "metadata": {},
     "output_type": "execute_result"
    }
   ],
   "source": [
    "x_train_T = x_train_filter.T\n",
    "x_test_T  = x_test_filter.T\n",
    "\n",
    "x_train_T = pd.DataFrame(x_train_T)\n",
    "x_test_T  = pd.DataFrame(x_test_T)\n",
    "\n",
    "duplicate_features = x_train_T.duplicated()\n",
    "keep_them = [not index for index in duplicate_features]\n",
    "\n",
    "x_train_unique = x_train_T[keep_them].T\n",
    "x_test_unique  = x_test_T[keep_them].T\n",
    "\n",
    "x_train_unique.shape,x_test_unique.shape"
   ]
  },
  {
   "cell_type": "code",
   "execution_count": 12,
   "metadata": {},
   "outputs": [
    {
     "name": "stdout",
     "output_type": "stream",
     "text": [
      "Accuracy :  0.955\n",
      "Wall time: 11.2 s\n"
     ]
    }
   ],
   "source": [
    "%%time\n",
    "def randomforest(x_train,x_test,y_train,y_test):\n",
    "    clf = RandomForestClassifier(n_estimators=1000,n_jobs=-1,random_state=0)\n",
    "    clf.fit(x_train,y_train)\n",
    "    y_pred = clf.predict(x_test)\n",
    "    print('Accuracy : ',accuracy_score(y_test,y_pred))\n",
    "randomforest(x_train_unique,x_test_unique,y_train,y_test)"
   ]
  },
  {
   "cell_type": "code",
   "execution_count": 13,
   "metadata": {},
   "outputs": [
    {
     "name": "stdout",
     "output_type": "stream",
     "text": [
      "Accuracy :  0.955\n",
      "Wall time: 12.5 s\n"
     ]
    }
   ],
   "source": [
    "%%time\n",
    "randomforest(x_train,x_test,y_train,y_test)"
   ]
  },
  {
   "cell_type": "markdown",
   "metadata": {},
   "source": [
    "However we got neccessary model with the acuracy of 95 %"
   ]
  },
  {
   "cell_type": "markdown",
   "metadata": {},
   "source": [
    "#### Part :2(by using the corelation coeficient remove the corrrelated features)"
   ]
  },
  {
   "cell_type": "markdown",
   "metadata": {},
   "source": [
    "### Feature Selection with Filtering Method -Correlated Feature Removal"
   ]
  },
  {
   "cell_type": "markdown",
   "metadata": {},
   "source": [
    "In that we are going to remove the feature those who are co-related by cartain coeficient or point."
   ]
  },
  {
   "cell_type": "markdown",
   "metadata": {},
   "source": [
    "If the correlation coeficient is more than 0.85 or less than -0.85 in that case features are highly correlated and this fetures might not give us the extra information to make the final prediction of classifition so we remove those features and by doing this ultimately improve our model and it will take less time train our model."
   ]
  },
  {
   "cell_type": "markdown",
   "metadata": {},
   "source": [
    " A dataset can be correlated features.Two or more than two features are correlated if they are close to each other in the linear space."
   ]
  },
  {
   "cell_type": "markdown",
   "metadata": {},
   "source": [
    "Correlation between the output observations and input features is very important and such features should be retained."
   ]
  },
  {
   "cell_type": "markdown",
   "metadata": {},
   "source": [
    "Our aim is to rreduce the correlative function and reduce diamensionality of the overall feature space."
   ]
  },
  {
   "cell_type": "markdown",
   "metadata": {},
   "source": [
    "Because our model gives us the better performace for the perticalar position at time performace of classifier high.\n",
    "But after the some time as soon as diamensinality of the feature space is increse that time modle start to decreasing its performace.\n"
   ]
  },
  {
   "cell_type": "markdown",
   "metadata": {},
   "source": [
    "So,that is always recomanded or desirable that we should have select optimal number of features."
   ]
  },
  {
   "cell_type": "markdown",
   "metadata": {},
   "source": [
    "In the feature space there are lots of the features are avalible that can predicted themself we use one of them at one time.So,this kind of feature not giveing any information for prediction of the model so that is why its very necessary to remove this kind features.Those feature also called as co-linear feature.\n"
   ]
  },
  {
   "cell_type": "markdown",
   "metadata": {},
   "source": [
    "Co-lineraity in the feature space and output is always desirable but the co-linearity amongs the features space space  is not desirable."
   ]
  },
  {
   "cell_type": "markdown",
   "metadata": {},
   "source": [
    "#### Summary:-"
   ]
  },
  {
   "cell_type": "markdown",
   "metadata": {},
   "source": [
    "Feature Space to target coeficient is desired."
   ]
  },
  {
   "cell_type": "markdown",
   "metadata": {},
   "source": [
    "Feature to feature is not desurable."
   ]
  },
  {
   "cell_type": "markdown",
   "metadata": {},
   "source": [
    "If two features are highly correlated then either features is redudant (either we have to remove feature 1 or feature 2)"
   ]
  },
  {
   "cell_type": "markdown",
   "metadata": {},
   "source": [
    "Correlation is feature space increases the model complexity."
   ]
  },
  {
   "cell_type": "markdown",
   "metadata": {},
   "source": [
    "Removing Correlated features improve the model performance."
   ]
  },
  {
   "cell_type": "markdown",
   "metadata": {},
   "source": [
    "Different model shows the different performance over the correlated features."
   ]
  },
  {
   "cell_type": "markdown",
   "metadata": {},
   "source": [
    "Before the work on the correlation feature we need to think about the previous part -1 there we have got the  x_train_unique,x_test_unique.\n",
    "Afterwards we have to think about the correlation feature.First we will calculate peierson correlation coefficient for traing and testing datasets and then we will select only those features which have correlation less than 0.85."
   ]
  },
  {
   "cell_type": "code",
   "execution_count": 14,
   "metadata": {},
   "outputs": [],
   "source": [
    "#first we are going to use the correlation matrix by using corrmat"
   ]
  },
  {
   "cell_type": "code",
   "execution_count": 15,
   "metadata": {},
   "outputs": [],
   "source": [
    "cormat = x_train_unique.corr()"
   ]
  },
  {
   "cell_type": "code",
   "execution_count": 16,
   "metadata": {},
   "outputs": [
    {
     "data": {
      "text/plain": [
       "<matplotlib.axes._subplots.AxesSubplot at 0xc8623b0>"
      ]
     },
     "execution_count": 16,
     "metadata": {},
     "output_type": "execute_result"
    },
    {
     "data": {
      "image/png": "[encoded data removed]",
      "text/plain": [
       "<Figure size 864x576 with 2 Axes>"
      ]
     },
     "metadata": {
      "needs_background": "light"
     },
     "output_type": "display_data"
    }
   ],
   "source": [
    "plt.figure(figsize = (12,8) )\n",
    "sns.heatmap(cormat)"
   ]
  },
  {
   "cell_type": "markdown",
   "metadata": {},
   "source": [
    "Here if see the black and white splot there which the features are interseting those are the features are very highly correlated. "
   ]
  },
  {
   "cell_type": "markdown",
   "metadata": {},
   "source": [
    "White is positive correlation and black represent the negetive correlation."
   ]
  },
  {
   "cell_type": "markdown",
   "metadata": {},
   "source": [
    "If we observed that the black is below -.85% and white is above the +85%."
   ]
  },
  {
   "cell_type": "code",
   "execution_count": 17,
   "metadata": {},
   "outputs": [],
   "source": [
    "#we are using the python method to get the corrlation features\n",
    "#here we are defining function that is correlation with attributes are data,threshold\n",
    "#data = x_train_unique to reduce the chances of overfitting\n",
    "#threshold is the limit upto which we count as no correlative faeture but above which is counted as correlative features.\n",
    "#thresold means gives the limit after which we discard the features.\n",
    "def correlation(data,threshold):\n",
    "    \n",
    "#there could be the possibility of the same features occurance on multiple time.\n",
    "#here we are using set with the corr_col the set method is avoid to use the same feature multipletime.\n",
    "\n",
    "    corr_col = set()\n",
    "#then we use the cormat which is presenting the correlation between the features of the data which we will procced.\n",
    "    cormat = data.corr()\n",
    "#so,after we use the for loop for the range(len(cormat.columns))\n",
    "#That means it is iterating features from features range it will start from 0 to final number from 0 to final feature that 219 featues \n",
    "#range(0,219)\n",
    "    for i in range(len(cormat.columns)):\n",
    "#by using above its possible to get the sitiation range(1,1),range(2,2) to avoid that kind of situation\n",
    "#if we use the range in that we containg the same features that time the correlation will become 1 because we are using same feature\n",
    "#that kind of correlation we not to consider.\n",
    "        for j in range(i):\n",
    "#after we we mention condition whever we i and j values in cormat like when the i is 1 that time j will be 0 and when i become 2 that\n",
    "#time j is will be the 1 and also it take care if we taken the 0 and 1 then it will not repeat the same iteration as (0,1) and (1,0)\n",
    "\n",
    "\n",
    "#we mention the condition when the abs(absolute values) of the cormat.iloc(ilocation)[i,j] will be greater than threshold \n",
    "\n",
    "            if abs(cormat.iloc[i,j])>threshold:\n",
    "#that time,what feature will above the threshold they will add in corr_col and it will add those features which are grater than the threshold.\n",
    "                colname = cormat.columns[i]\n",
    "#above list is will contain the feature which are availbe in correlation format and it will gone add to the corr_col which set to get.\n",
    "                corr_col.add(colname)\n",
    "    return corr_col                "
   ]
  },
  {
   "cell_type": "code",
   "execution_count": 18,
   "metadata": {},
   "outputs": [],
   "source": [
    "def correlation(data,threshold):\n",
    "    corr_col = set()\n",
    "    cormat = data.corr()\n",
    "    for i in range(len(cormat.columns)):\n",
    "        for j in range(i):\n",
    "            if abs(cormat.iloc[i,j]) > threshold:\n",
    "                colname = cormat.columns[i]\n",
    "                corr_col.add(colname)\n",
    "    return corr_col"
   ]
  },
  {
   "cell_type": "code",
   "execution_count": 19,
   "metadata": {},
   "outputs": [
    {
     "data": {
      "text/plain": [
       "{5,\n",
       " 7,\n",
       " 9,\n",
       " 11,\n",
       " 12,\n",
       " 14,\n",
       " 16,\n",
       " 17,\n",
       " 18,\n",
       " 23,\n",
       " 27,\n",
       " 28,\n",
       " 29,\n",
       " 32,\n",
       " 34,\n",
       " 35,\n",
       " 37,\n",
       " 39,\n",
       " 41,\n",
       " 44,\n",
       " 48,\n",
       " 49,\n",
       " 50,\n",
       " 51,\n",
       " 52,\n",
       " 53,\n",
       " 54,\n",
       " 55,\n",
       " 56,\n",
       " 58,\n",
       " 59,\n",
       " 60,\n",
       " 63,\n",
       " 65,\n",
       " 66,\n",
       " 67,\n",
       " 68,\n",
       " 70,\n",
       " 73,\n",
       " 74,\n",
       " 78,\n",
       " 79,\n",
       " 80,\n",
       " 81,\n",
       " 82,\n",
       " 84,\n",
       " 85,\n",
       " 86,\n",
       " 87,\n",
       " 89,\n",
       " 91,\n",
       " 93,\n",
       " 96,\n",
       " 99,\n",
       " 102,\n",
       " 108,\n",
       " 109,\n",
       " 113,\n",
       " 115,\n",
       " 118,\n",
       " 119,\n",
       " 122,\n",
       " 123,\n",
       " 127,\n",
       " 130,\n",
       " 138,\n",
       " 139,\n",
       " 142,\n",
       " 143,\n",
       " 145,\n",
       " 147,\n",
       " 148,\n",
       " 149,\n",
       " 150,\n",
       " 151,\n",
       " 154,\n",
       " 156,\n",
       " 157,\n",
       " 163,\n",
       " 165,\n",
       " 166,\n",
       " 167,\n",
       " 168,\n",
       " 169,\n",
       " 171,\n",
       " 172,\n",
       " 173,\n",
       " 174,\n",
       " 175,\n",
       " 176,\n",
       " 177,\n",
       " 178,\n",
       " 180,\n",
       " 181,\n",
       " 182,\n",
       " 183,\n",
       " 184,\n",
       " 187,\n",
       " 189,\n",
       " 191,\n",
       " 192,\n",
       " 196,\n",
       " 199,\n",
       " 200,\n",
       " 201,\n",
       " 203,\n",
       " 204,\n",
       " 205,\n",
       " 206,\n",
       " 207,\n",
       " 208,\n",
       " 211,\n",
       " 212,\n",
       " 213,\n",
       " 214,\n",
       " 215,\n",
       " 216,\n",
       " 218,\n",
       " 219,\n",
       " 220,\n",
       " 221}"
      ]
     },
     "execution_count": 19,
     "metadata": {},
     "output_type": "execute_result"
    }
   ],
   "source": [
    "correlated_features = correlation(x_train_unique,0.85)\n",
    "\n",
    "correlated_features"
   ]
  },
  {
   "cell_type": "code",
   "execution_count": 20,
   "metadata": {},
   "outputs": [
    {
     "data": {
      "text/plain": [
       "121"
      ]
     },
     "execution_count": 20,
     "metadata": {},
     "output_type": "execute_result"
    }
   ],
   "source": [
    "len(correlated_features)"
   ]
  },
  {
   "cell_type": "markdown",
   "metadata": {},
   "source": [
    "We have got the correlated feature then our next task to remove this features and then strat to train model."
   ]
  },
  {
   "cell_type": "code",
   "execution_count": 21,
   "metadata": {},
   "outputs": [],
   "source": [
    "x_train_uncorr = x_train_unique.drop(labels=correlated_features,axis=1)\n",
    "x_test_uncorr  = x_test_unique.drop(labels=correlated_features,axis=1)"
   ]
  },
  {
   "cell_type": "code",
   "execution_count": 22,
   "metadata": {},
   "outputs": [
    {
     "data": {
      "text/plain": [
       "((1600, 79), (400, 79))"
      ]
     },
     "execution_count": 22,
     "metadata": {},
     "output_type": "execute_result"
    }
   ],
   "source": [
    "x_train_uncorr.shape,x_test_uncorr.shape"
   ]
  },
  {
   "cell_type": "code",
   "execution_count": 26,
   "metadata": {},
   "outputs": [
    {
     "name": "stdout",
     "output_type": "stream",
     "text": [
      "Accuracy :  0.9575\n",
      "Wall time: 9.75 s\n"
     ]
    }
   ],
   "source": [
    "%%time\n",
    "randomforest(x_train_uncorr,x_test_uncorr,y_train,y_test)"
   ]
  },
  {
   "cell_type": "code",
   "execution_count": 24,
   "metadata": {},
   "outputs": [
    {
     "name": "stdout",
     "output_type": "stream",
     "text": [
      "Accuracy :  0.955\n",
      "Wall time: 10.9 s\n"
     ]
    }
   ],
   "source": [
    "%%time \n",
    "randomforest(x_train,x_test,y_train,y_test)"
   ]
  },
  {
   "cell_type": "code",
   "execution_count": 28,
   "metadata": {},
   "outputs": [
    {
     "data": {
      "text/plain": [
       "11.794871794871797"
      ]
     },
     "execution_count": 28,
     "metadata": {},
     "output_type": "execute_result"
    }
   ],
   "source": [
    "(10.9-9.75)*100/9.75\n",
    "\n",
    "#It shows that the 11 % time gain into our training time by removing the correlative features."
   ]
  },
  {
   "cell_type": "markdown",
   "metadata": {},
   "source": [
    "From the above we can only say that the it does not making any on the accuracy but it impacting on the training time which is equired less than the original datasets."
   ]
  },
  {
   "cell_type": "markdown",
   "metadata": {},
   "source": [
    "Here we use the broot force techinique to reduce the diamensionality of the datasets by removing the correlated featutres."
   ]
  },
  {
   "cell_type": "markdown",
   "metadata": {},
   "source": [
    "Till now we can make any statement that visit our accuracy doesn't improve pretty much are very high but the training time has reduced the effect source around 11% of the training time has been reduced to increase if you are doing a very big data set in that place where you can remove uncorrelated features and unnecessarily features and you can reduce dimensions of your data and you can handle curse of dimension what we did we actually we did kind of the brute force that we had removed all the correlated features but you know this is not always recommended there could be a places where some group of features are correlated with each others only that mean we only need to remove a certain features and we can keep some features bye testing the features importance.for example it's a year in out of 121 features there would be kind of the 10 groups where they are correlated that we can avoid these all the correlated features in kind of the groups and then finally we can select a single feature in each of those groups after performing feature importance so here now we are going to do what feature importance and the grouping of these correlated features."
   ]
  },
  {
   "cell_type": "code",
   "execution_count": null,
   "metadata": {},
   "outputs": [],
   "source": []
  },
  {
   "cell_type": "markdown",
   "metadata": {},
   "source": [
    "### Feature Grouping and Feature Important."
   ]
  },
  {
   "cell_type": "code",
   "execution_count": 40,
   "metadata": {},
   "outputs": [
    {
     "data": {
      "text/html": [
       "<div>\n",
       "<style scoped>\n",
       "    .dataframe tbody tr th:only-of-type {\n",
       "        vertical-align: middle;\n",
       "    }\n",
       "\n",
       "    .dataframe tbody tr th {\n",
       "        vertical-align: top;\n",
       "    }\n",
       "\n",
       "    .dataframe thead th {\n",
       "        text-align: right;\n",
       "    }\n",
       "</style>\n",
       "<table border=\"1\" class=\"dataframe\">\n",
       "  <thead>\n",
       "    <tr style=\"text-align: right;\">\n",
       "      <th></th>\n",
       "      <th>0</th>\n",
       "      <th>1</th>\n",
       "      <th>2</th>\n",
       "      <th>3</th>\n",
       "      <th>4</th>\n",
       "      <th>5</th>\n",
       "      <th>6</th>\n",
       "      <th>7</th>\n",
       "      <th>8</th>\n",
       "      <th>9</th>\n",
       "      <th>...</th>\n",
       "      <th>212</th>\n",
       "      <th>213</th>\n",
       "      <th>214</th>\n",
       "      <th>215</th>\n",
       "      <th>216</th>\n",
       "      <th>218</th>\n",
       "      <th>219</th>\n",
       "      <th>220</th>\n",
       "      <th>221</th>\n",
       "      <th>222</th>\n",
       "    </tr>\n",
       "  </thead>\n",
       "  <tbody>\n",
       "    <tr>\n",
       "      <td>0</td>\n",
       "      <td>1.000000</td>\n",
       "      <td>-0.027387</td>\n",
       "      <td>-0.006389</td>\n",
       "      <td>0.035624</td>\n",
       "      <td>0.031820</td>\n",
       "      <td>0.014071</td>\n",
       "      <td>0.022963</td>\n",
       "      <td>0.023790</td>\n",
       "      <td>0.031051</td>\n",
       "      <td>0.028532</td>\n",
       "      <td>...</td>\n",
       "      <td>0.007409</td>\n",
       "      <td>-0.017482</td>\n",
       "      <td>-0.015821</td>\n",
       "      <td>-0.016693</td>\n",
       "      <td>-0.002554</td>\n",
       "      <td>-0.040836</td>\n",
       "      <td>-0.030185</td>\n",
       "      <td>-0.043733</td>\n",
       "      <td>-0.043562</td>\n",
       "      <td>-0.011098</td>\n",
       "    </tr>\n",
       "    <tr>\n",
       "      <td>1</td>\n",
       "      <td>-0.027387</td>\n",
       "      <td>1.000000</td>\n",
       "      <td>0.129309</td>\n",
       "      <td>-0.003721</td>\n",
       "      <td>0.162310</td>\n",
       "      <td>0.183237</td>\n",
       "      <td>0.026635</td>\n",
       "      <td>0.027339</td>\n",
       "      <td>-0.002888</td>\n",
       "      <td>-0.002831</td>\n",
       "      <td>...</td>\n",
       "      <td>0.093521</td>\n",
       "      <td>-0.002286</td>\n",
       "      <td>-0.002963</td>\n",
       "      <td>-0.002895</td>\n",
       "      <td>-0.002054</td>\n",
       "      <td>-0.002733</td>\n",
       "      <td>-0.002054</td>\n",
       "      <td>-0.002894</td>\n",
       "      <td>-0.002879</td>\n",
       "      <td>-0.006643</td>\n",
       "    </tr>\n",
       "    <tr>\n",
       "      <td>2</td>\n",
       "      <td>-0.006389</td>\n",
       "      <td>0.129309</td>\n",
       "      <td>1.000000</td>\n",
       "      <td>0.039272</td>\n",
       "      <td>0.094338</td>\n",
       "      <td>0.098071</td>\n",
       "      <td>0.041147</td>\n",
       "      <td>0.033639</td>\n",
       "      <td>0.020170</td>\n",
       "      <td>0.018505</td>\n",
       "      <td>...</td>\n",
       "      <td>0.122776</td>\n",
       "      <td>-0.021590</td>\n",
       "      <td>-0.026059</td>\n",
       "      <td>-0.024925</td>\n",
       "      <td>0.042111</td>\n",
       "      <td>0.009685</td>\n",
       "      <td>0.001744</td>\n",
       "      <td>0.015735</td>\n",
       "      <td>0.016210</td>\n",
       "      <td>-0.006950</td>\n",
       "    </tr>\n",
       "    <tr>\n",
       "      <td>3</td>\n",
       "      <td>0.035624</td>\n",
       "      <td>-0.003721</td>\n",
       "      <td>0.039272</td>\n",
       "      <td>1.000000</td>\n",
       "      <td>0.084736</td>\n",
       "      <td>0.044504</td>\n",
       "      <td>-0.004283</td>\n",
       "      <td>-0.003979</td>\n",
       "      <td>-0.003148</td>\n",
       "      <td>-0.003086</td>\n",
       "      <td>...</td>\n",
       "      <td>-0.006308</td>\n",
       "      <td>-0.002492</td>\n",
       "      <td>-0.003230</td>\n",
       "      <td>-0.003156</td>\n",
       "      <td>0.557516</td>\n",
       "      <td>-0.002979</td>\n",
       "      <td>-0.002239</td>\n",
       "      <td>-0.003155</td>\n",
       "      <td>-0.003139</td>\n",
       "      <td>-0.026085</td>\n",
       "    </tr>\n",
       "    <tr>\n",
       "      <td>4</td>\n",
       "      <td>0.031820</td>\n",
       "      <td>0.162310</td>\n",
       "      <td>0.094338</td>\n",
       "      <td>0.084736</td>\n",
       "      <td>1.000000</td>\n",
       "      <td>0.871544</td>\n",
       "      <td>0.388872</td>\n",
       "      <td>0.368375</td>\n",
       "      <td>0.242827</td>\n",
       "      <td>0.216412</td>\n",
       "      <td>...</td>\n",
       "      <td>-0.014652</td>\n",
       "      <td>-0.005787</td>\n",
       "      <td>-0.007501</td>\n",
       "      <td>-0.007330</td>\n",
       "      <td>0.040981</td>\n",
       "      <td>-0.006920</td>\n",
       "      <td>-0.005200</td>\n",
       "      <td>-0.007327</td>\n",
       "      <td>-0.007290</td>\n",
       "      <td>-0.013012</td>\n",
       "    </tr>\n",
       "    <tr>\n",
       "      <td>...</td>\n",
       "      <td>...</td>\n",
       "      <td>...</td>\n",
       "      <td>...</td>\n",
       "      <td>...</td>\n",
       "      <td>...</td>\n",
       "      <td>...</td>\n",
       "      <td>...</td>\n",
       "      <td>...</td>\n",
       "      <td>...</td>\n",
       "      <td>...</td>\n",
       "      <td>...</td>\n",
       "      <td>...</td>\n",
       "      <td>...</td>\n",
       "      <td>...</td>\n",
       "      <td>...</td>\n",
       "      <td>...</td>\n",
       "      <td>...</td>\n",
       "      <td>...</td>\n",
       "      <td>...</td>\n",
       "      <td>...</td>\n",
       "      <td>...</td>\n",
       "    </tr>\n",
       "    <tr>\n",
       "      <td>218</td>\n",
       "      <td>-0.040836</td>\n",
       "      <td>-0.002733</td>\n",
       "      <td>0.009685</td>\n",
       "      <td>-0.002979</td>\n",
       "      <td>-0.006920</td>\n",
       "      <td>0.004181</td>\n",
       "      <td>-0.001592</td>\n",
       "      <td>-0.001479</td>\n",
       "      <td>-0.001170</td>\n",
       "      <td>-0.001147</td>\n",
       "      <td>...</td>\n",
       "      <td>-0.002345</td>\n",
       "      <td>-0.000926</td>\n",
       "      <td>-0.001201</td>\n",
       "      <td>-0.001173</td>\n",
       "      <td>-0.000832</td>\n",
       "      <td>1.000000</td>\n",
       "      <td>0.904901</td>\n",
       "      <td>0.906773</td>\n",
       "      <td>0.886792</td>\n",
       "      <td>-0.000578</td>\n",
       "    </tr>\n",
       "    <tr>\n",
       "      <td>219</td>\n",
       "      <td>-0.030185</td>\n",
       "      <td>-0.002054</td>\n",
       "      <td>0.001744</td>\n",
       "      <td>-0.002239</td>\n",
       "      <td>-0.005200</td>\n",
       "      <td>0.006882</td>\n",
       "      <td>-0.001196</td>\n",
       "      <td>-0.001111</td>\n",
       "      <td>-0.000879</td>\n",
       "      <td>-0.000862</td>\n",
       "      <td>...</td>\n",
       "      <td>-0.001762</td>\n",
       "      <td>-0.000696</td>\n",
       "      <td>-0.000902</td>\n",
       "      <td>-0.000882</td>\n",
       "      <td>-0.000625</td>\n",
       "      <td>0.904901</td>\n",
       "      <td>1.000000</td>\n",
       "      <td>0.641089</td>\n",
       "      <td>0.605750</td>\n",
       "      <td>-0.000434</td>\n",
       "    </tr>\n",
       "    <tr>\n",
       "      <td>220</td>\n",
       "      <td>-0.043733</td>\n",
       "      <td>-0.002894</td>\n",
       "      <td>0.015735</td>\n",
       "      <td>-0.003155</td>\n",
       "      <td>-0.007327</td>\n",
       "      <td>0.000722</td>\n",
       "      <td>-0.001686</td>\n",
       "      <td>-0.001566</td>\n",
       "      <td>-0.001239</td>\n",
       "      <td>-0.001215</td>\n",
       "      <td>...</td>\n",
       "      <td>-0.002483</td>\n",
       "      <td>-0.000981</td>\n",
       "      <td>-0.001271</td>\n",
       "      <td>-0.001242</td>\n",
       "      <td>-0.000881</td>\n",
       "      <td>0.906773</td>\n",
       "      <td>0.641089</td>\n",
       "      <td>1.000000</td>\n",
       "      <td>0.998978</td>\n",
       "      <td>-0.000612</td>\n",
       "    </tr>\n",
       "    <tr>\n",
       "      <td>221</td>\n",
       "      <td>-0.043562</td>\n",
       "      <td>-0.002879</td>\n",
       "      <td>0.016210</td>\n",
       "      <td>-0.003139</td>\n",
       "      <td>-0.007290</td>\n",
       "      <td>0.000344</td>\n",
       "      <td>-0.001677</td>\n",
       "      <td>-0.001558</td>\n",
       "      <td>-0.001233</td>\n",
       "      <td>-0.001208</td>\n",
       "      <td>...</td>\n",
       "      <td>-0.002470</td>\n",
       "      <td>-0.000976</td>\n",
       "      <td>-0.001265</td>\n",
       "      <td>-0.001236</td>\n",
       "      <td>-0.000877</td>\n",
       "      <td>0.886792</td>\n",
       "      <td>0.605750</td>\n",
       "      <td>0.998978</td>\n",
       "      <td>1.000000</td>\n",
       "      <td>-0.000609</td>\n",
       "    </tr>\n",
       "    <tr>\n",
       "      <td>222</td>\n",
       "      <td>-0.011098</td>\n",
       "      <td>-0.006643</td>\n",
       "      <td>-0.006950</td>\n",
       "      <td>-0.026085</td>\n",
       "      <td>-0.013012</td>\n",
       "      <td>-0.008666</td>\n",
       "      <td>-0.004132</td>\n",
       "      <td>-0.003413</td>\n",
       "      <td>-0.010453</td>\n",
       "      <td>-0.011169</td>\n",
       "      <td>...</td>\n",
       "      <td>0.001086</td>\n",
       "      <td>-0.001878</td>\n",
       "      <td>-0.003087</td>\n",
       "      <td>-0.001382</td>\n",
       "      <td>-0.009368</td>\n",
       "      <td>-0.000578</td>\n",
       "      <td>-0.000434</td>\n",
       "      <td>-0.000612</td>\n",
       "      <td>-0.000609</td>\n",
       "      <td>1.000000</td>\n",
       "    </tr>\n",
       "  </tbody>\n",
       "</table>\n",
       "<p>200 rows × 200 columns</p>\n",
       "</div>"
      ],
      "text/plain": [
       "          0         1         2         3         4         5         6    \\\n",
       "0    1.000000 -0.027387 -0.006389  0.035624  0.031820  0.014071  0.022963   \n",
       "1   -0.027387  1.000000  0.129309 -0.003721  0.162310  0.183237  0.026635   \n",
       "2   -0.006389  0.129309  1.000000  0.039272  0.094338  0.098071  0.041147   \n",
       "3    0.035624 -0.003721  0.039272  1.000000  0.084736  0.044504 -0.004283   \n",
       "4    0.031820  0.162310  0.094338  0.084736  1.000000  0.871544  0.388872   \n",
       "..        ...       ...       ...       ...       ...       ...       ...   \n",
       "218 -0.040836 -0.002733  0.009685 -0.002979 -0.006920  0.004181 -0.001592   \n",
       "219 -0.030185 -0.002054  0.001744 -0.002239 -0.005200  0.006882 -0.001196   \n",
       "220 -0.043733 -0.002894  0.015735 -0.003155 -0.007327  0.000722 -0.001686   \n",
       "221 -0.043562 -0.002879  0.016210 -0.003139 -0.007290  0.000344 -0.001677   \n",
       "222 -0.011098 -0.006643 -0.006950 -0.026085 -0.013012 -0.008666 -0.004132   \n",
       "\n",
       "          7         8         9    ...       212       213       214  \\\n",
       "0    0.023790  0.031051  0.028532  ...  0.007409 -0.017482 -0.015821   \n",
       "1    0.027339 -0.002888 -0.002831  ...  0.093521 -0.002286 -0.002963   \n",
       "2    0.033639  0.020170  0.018505  ...  0.122776 -0.021590 -0.026059   \n",
       "3   -0.003979 -0.003148 -0.003086  ... -0.006308 -0.002492 -0.003230   \n",
       "4    0.368375  0.242827  0.216412  ... -0.014652 -0.005787 -0.007501   \n",
       "..        ...       ...       ...  ...       ...       ...       ...   \n",
       "218 -0.001479 -0.001170 -0.001147  ... -0.002345 -0.000926 -0.001201   \n",
       "219 -0.001111 -0.000879 -0.000862  ... -0.001762 -0.000696 -0.000902   \n",
       "220 -0.001566 -0.001239 -0.001215  ... -0.002483 -0.000981 -0.001271   \n",
       "221 -0.001558 -0.001233 -0.001208  ... -0.002470 -0.000976 -0.001265   \n",
       "222 -0.003413 -0.010453 -0.011169  ...  0.001086 -0.001878 -0.003087   \n",
       "\n",
       "          215       216       218       219       220       221       222  \n",
       "0   -0.016693 -0.002554 -0.040836 -0.030185 -0.043733 -0.043562 -0.011098  \n",
       "1   -0.002895 -0.002054 -0.002733 -0.002054 -0.002894 -0.002879 -0.006643  \n",
       "2   -0.024925  0.042111  0.009685  0.001744  0.015735  0.016210 -0.006950  \n",
       "3   -0.003156  0.557516 -0.002979 -0.002239 -0.003155 -0.003139 -0.026085  \n",
       "4   -0.007330  0.040981 -0.006920 -0.005200 -0.007327 -0.007290 -0.013012  \n",
       "..        ...       ...       ...       ...       ...       ...       ...  \n",
       "218 -0.001173 -0.000832  1.000000  0.904901  0.906773  0.886792 -0.000578  \n",
       "219 -0.000882 -0.000625  0.904901  1.000000  0.641089  0.605750 -0.000434  \n",
       "220 -0.001242 -0.000881  0.906773  0.641089  1.000000  0.998978 -0.000612  \n",
       "221 -0.001236 -0.000877  0.886792  0.605750  0.998978  1.000000 -0.000609  \n",
       "222 -0.001382 -0.009368 -0.000578 -0.000434 -0.000612 -0.000609  1.000000  \n",
       "\n",
       "[200 rows x 200 columns]"
      ]
     },
     "execution_count": 40,
     "metadata": {},
     "output_type": "execute_result"
    }
   ],
   "source": [
    "cormat"
   ]
  },
  {
   "cell_type": "code",
   "execution_count": 41,
   "metadata": {},
   "outputs": [],
   "source": [
    "#lets do the the verically stacking (make the 0th row into the form oth column)"
   ]
  },
  {
   "cell_type": "code",
   "execution_count": 42,
   "metadata": {},
   "outputs": [
    {
     "data": {
      "text/plain": [
       "0    0      1.000000\n",
       "     1      0.027387\n",
       "     2      0.006389\n",
       "     3      0.035624\n",
       "     4      0.031820\n",
       "              ...   \n",
       "222  218    0.000578\n",
       "     219    0.000434\n",
       "     220    0.000612\n",
       "     221    0.000609\n",
       "     222    1.000000\n",
       "Length: 40000, dtype: float64"
      ]
     },
     "execution_count": 42,
     "metadata": {},
     "output_type": "execute_result"
    }
   ],
   "source": [
    "corrdata = cormat.abs().stack()\n",
    "corrdata"
   ]
  },
  {
   "cell_type": "code",
   "execution_count": 43,
   "metadata": {},
   "outputs": [
    {
     "data": {
      "text/plain": [
       "142  127    1.000000e+00\n",
       "127  142    1.000000e+00\n",
       "139  126    1.000000e+00\n",
       "126  139    1.000000e+00\n",
       "125  156    1.000000e+00\n",
       "                ...     \n",
       "45   24     1.269902e-16\n",
       "24   51     3.905293e-17\n",
       "51   24     3.905293e-17\n",
       "23   52     3.862636e-17\n",
       "52   23     3.862636e-17\n",
       "Length: 40000, dtype: float64"
      ]
     },
     "execution_count": 43,
     "metadata": {},
     "output_type": "execute_result"
    }
   ],
   "source": [
    "#sort the values of the stack formate of the corrdata\n",
    "corrdata = corrdata.sort_values(ascending=False)\n",
    "corrdata\n",
    "#it is the form of desending order format due to this reason lowest values come first and highest at last."
   ]
  },
  {
   "cell_type": "markdown",
   "metadata": {},
   "source": [
    "If we see the above sorted corrdata in that we get to know that the 142 is correlated with 127 similarly 127 is correlated with the 142\n",
    "and in similar fashion 139 is correlated with the 126 \n",
    "\n",
    "After the some time we will get the correlation with the same features space like 166 is correlated with the 166 an so on.We will not gone filter out this correlated otherwise will get the at least one correlation for each feature.we remove this kind ,I means we keep this like 166 will correlated other than the same feature i.e.166\n"
   ]
  },
  {
   "cell_type": "markdown",
   "metadata": {},
   "source": [
    "Now,for that we are going to do grouping lets say if feature space is 142 so what are other features for which this feature 142  is correlated."
   ]
  },
  {
   "cell_type": "markdown",
   "metadata": {},
   "source": [
    "We can do that by selecting the features inbetween o.85 and 1."
   ]
  },
  {
   "cell_type": "code",
   "execution_count": 44,
   "metadata": {},
   "outputs": [
    {
     "data": {
      "text/plain": [
       "22   50     1.000000\n",
       "50   22     1.000000\n",
       "67   32     1.000000\n",
       "32   67     1.000000\n",
       "216  104    1.000000\n",
       "              ...   \n",
       "108  58     0.852894\n",
       "99   165    0.852609\n",
       "165  99     0.852609\n",
       "5    172    0.850782\n",
       "172  5      0.850782\n",
       "Length: 526, dtype: float64"
      ]
     },
     "execution_count": 44,
     "metadata": {},
     "output_type": "execute_result"
    }
   ],
   "source": [
    "corrdata = corrdata[corrdata>0.85]\n",
    "corrdata = corrdata[corrdata<1]\n",
    "\n",
    "corrdata"
   ]
  },
  {
   "cell_type": "markdown",
   "metadata": {},
   "source": [
    "It is representing the data in such manner that 22 is correlated with the 50 and 50 then correlated 22 it is showing that correlation is equal to 1 but \n",
    "but this is not exacly 1 due to the limitation of the digital thats is why it is showing 1 but it is somehow nearby 1.Since we had\n",
    "remove all features with are correlated equal to 1.Other than same features there is no features which is correlated.why ?\n",
    "\n",
    "If the correlation is exctly 1 other than the same feature that means those features are duplicate and we already remove those\n",
    "duplicate features.\n",
    "\n",
    "Now just go ahead and perform the grouping.\n",
    "\n",
    "For that we need to covert into the pandas DataFrame."
   ]
  },
  {
   "cell_type": "markdown",
   "metadata": {},
   "source": [
    "reset_index() function to reset the index of the given DataFrame object.\n",
    "andas reset_index() is a method to reset index of a Data Frame. reset_index() method sets a list of integer ranging from 0 to length of data as index.\n",
    "\n",
    "\n",
    "\n"
   ]
  },
  {
   "cell_type": "code",
   "execution_count": 45,
   "metadata": {},
   "outputs": [
    {
     "data": {
      "text/html": [
       "<div>\n",
       "<style scoped>\n",
       "    .dataframe tbody tr th:only-of-type {\n",
       "        vertical-align: middle;\n",
       "    }\n",
       "\n",
       "    .dataframe tbody tr th {\n",
       "        vertical-align: top;\n",
       "    }\n",
       "\n",
       "    .dataframe thead th {\n",
       "        text-align: right;\n",
       "    }\n",
       "</style>\n",
       "<table border=\"1\" class=\"dataframe\">\n",
       "  <thead>\n",
       "    <tr style=\"text-align: right;\">\n",
       "      <th></th>\n",
       "      <th>features1</th>\n",
       "      <th>features2</th>\n",
       "      <th>corr_value</th>\n",
       "    </tr>\n",
       "  </thead>\n",
       "  <tbody>\n",
       "    <tr>\n",
       "      <td>0</td>\n",
       "      <td>22</td>\n",
       "      <td>50</td>\n",
       "      <td>1.000000</td>\n",
       "    </tr>\n",
       "    <tr>\n",
       "      <td>1</td>\n",
       "      <td>50</td>\n",
       "      <td>22</td>\n",
       "      <td>1.000000</td>\n",
       "    </tr>\n",
       "    <tr>\n",
       "      <td>2</td>\n",
       "      <td>67</td>\n",
       "      <td>32</td>\n",
       "      <td>1.000000</td>\n",
       "    </tr>\n",
       "    <tr>\n",
       "      <td>3</td>\n",
       "      <td>32</td>\n",
       "      <td>67</td>\n",
       "      <td>1.000000</td>\n",
       "    </tr>\n",
       "    <tr>\n",
       "      <td>4</td>\n",
       "      <td>216</td>\n",
       "      <td>104</td>\n",
       "      <td>1.000000</td>\n",
       "    </tr>\n",
       "    <tr>\n",
       "      <td>...</td>\n",
       "      <td>...</td>\n",
       "      <td>...</td>\n",
       "      <td>...</td>\n",
       "    </tr>\n",
       "    <tr>\n",
       "      <td>521</td>\n",
       "      <td>108</td>\n",
       "      <td>58</td>\n",
       "      <td>0.852894</td>\n",
       "    </tr>\n",
       "    <tr>\n",
       "      <td>522</td>\n",
       "      <td>99</td>\n",
       "      <td>165</td>\n",
       "      <td>0.852609</td>\n",
       "    </tr>\n",
       "    <tr>\n",
       "      <td>523</td>\n",
       "      <td>165</td>\n",
       "      <td>99</td>\n",
       "      <td>0.852609</td>\n",
       "    </tr>\n",
       "    <tr>\n",
       "      <td>524</td>\n",
       "      <td>5</td>\n",
       "      <td>172</td>\n",
       "      <td>0.850782</td>\n",
       "    </tr>\n",
       "    <tr>\n",
       "      <td>525</td>\n",
       "      <td>172</td>\n",
       "      <td>5</td>\n",
       "      <td>0.850782</td>\n",
       "    </tr>\n",
       "  </tbody>\n",
       "</table>\n",
       "<p>526 rows × 3 columns</p>\n",
       "</div>"
      ],
      "text/plain": [
       "     features1  features2  corr_value\n",
       "0           22         50    1.000000\n",
       "1           50         22    1.000000\n",
       "2           67         32    1.000000\n",
       "3           32         67    1.000000\n",
       "4          216        104    1.000000\n",
       "..         ...        ...         ...\n",
       "521        108         58    0.852894\n",
       "522         99        165    0.852609\n",
       "523        165         99    0.852609\n",
       "524          5        172    0.850782\n",
       "525        172          5    0.850782\n",
       "\n",
       "[526 rows x 3 columns]"
      ]
     },
     "execution_count": 45,
     "metadata": {},
     "output_type": "execute_result"
    }
   ],
   "source": [
    "#before going to that \n",
    "corrdata = pd.DataFrame(corrdata).reset_index()\n",
    "corrdata.columns = ['features1','features2','corr_value']\n",
    "corrdata"
   ]
  },
  {
   "cell_type": "markdown",
   "metadata": {},
   "source": [
    "we got the nice visualization and we will go for the grouping."
   ]
  },
  {
   "cell_type": "code",
   "execution_count": 47,
   "metadata": {},
   "outputs": [],
   "source": [
    "#we had created empty list by the name groupped_feature_list \n",
    "#Similarly, we had created the empty list by the name correlated_grouped_list\n",
    "#first we are going to create the group of the feature and then we are going to create the list of those features group.\n",
    "#Then we will find the feature importance of each group then we wil select only one feature from each group then we wil discard the other features.\n",
    "\n",
    "grouped_feature_list =[]\n",
    "correlated_grouped_list = []\n",
    "for feature in corrdata.features1.unique():\n",
    "#that means it is going to see if this  feature is not present into a grouped_feature_list then we shold consider this feature.\n",
    "#otherwise,grouping already done and dont we need to do grouping.\n",
    "#so,lets find out all correlated feature in group \n",
    "    if feature not in grouped_feature_list:\n",
    "#when the feature from the group is become equal to the corrdata.features1 feature then only it will be accept in the correlated_block object or variable.\n",
    "        correlated_block = corrdata[corrdata.features1==feature]\n",
    "#we going to do if the two features are same that means they are same correlated group then we are going to getthe feature2 of that correlated_block \n",
    "\n",
    "#If we have here the feature 22 so it going to get the all features in feature1 then it will look all the feature set against 22\n",
    "#That those features are fall into the same group \n",
    "#Since 22 is correlated with 50 the any feature correlated with 50 will be also highly correlatated with 22 .\n",
    "#so, in this way we are going the get the same correlation ith 22 and similar kind of the features.\n",
    "        grouped_feature_list= grouped_feature_list + list(correlated_block.features2.unique()) + [feature]\n",
    "#by doing so, we have created the list of grouped features.\n",
    "        correlated_grouped_list.append(correlated_block)"
   ]
  },
  {
   "cell_type": "code",
   "execution_count": 81,
   "metadata": {},
   "outputs": [],
   "source": [
    "grouped_feature_list =[]\n",
    "correlated_grouped_list = []\n",
    "for feature in corrdata.features1.unique():\n",
    "    if feature not in grouped_feature_list:\n",
    "        correlated_block = corrdata[corrdata.features1==feature]\n",
    "        grouped_feature_list= grouped_feature_list + list(correlated_block.features2.unique()) + [feature]\n",
    "        correlated_grouped_list.append(correlated_block)"
   ]
  },
  {
   "cell_type": "code",
   "execution_count": 49,
   "metadata": {},
   "outputs": [
    {
     "data": {
      "text/plain": [
       "54"
      ]
     },
     "execution_count": 49,
     "metadata": {},
     "output_type": "execute_result"
    }
   ],
   "source": [
    "len(correlated_grouped_list)\n",
    "#In 121 correlated faeture  we had found the 54 groups that there is 54 group exisied in out of those correlated features."
   ]
  },
  {
   "cell_type": "code",
   "execution_count": null,
   "metadata": {},
   "outputs": [],
   "source": [
    "#After in correlated group  that we are going to get a single feature based on the feature importance of toatl features."
   ]
  },
  {
   "cell_type": "code",
   "execution_count": 50,
   "metadata": {},
   "outputs": [
    {
     "data": {
      "text/plain": [
       "(1600, 370)"
      ]
     },
     "execution_count": 50,
     "metadata": {},
     "output_type": "execute_result"
    }
   ],
   "source": [
    "#toltal feature \n",
    "x_train.shape"
   ]
  },
  {
   "cell_type": "code",
   "execution_count": 51,
   "metadata": {},
   "outputs": [
    {
     "data": {
      "text/plain": [
       "(1600, 79)"
      ]
     },
     "execution_count": 51,
     "metadata": {},
     "output_type": "execute_result"
    }
   ],
   "source": [
    "#uncorr_feature\n",
    "x_train_uncorr.shape"
   ]
  },
  {
   "cell_type": "markdown",
   "metadata": {},
   "source": [
    "We had removed the all the constant,quaisi constant,duplicate and correlated_features then we having the remaing feature those are only 79."
   ]
  },
  {
   "cell_type": "code",
   "execution_count": 52,
   "metadata": {},
   "outputs": [
    {
     "name": "stdout",
     "output_type": "stream",
     "text": [
      "     features1  features2  corr_value\n",
      "0           22         50    1.000000\n",
      "439         22         23    0.880913\n",
      "443         22         51    0.880913\n",
      "     features1  features2  corr_value\n",
      "2           67         32    1.000000\n",
      "266         67         31    0.932090\n",
      "273         67         66    0.932090\n",
      "513         67         25    0.854618\n",
      "515         67         53    0.854618\n",
      "   features1  features2  corr_value\n",
      "4        216        104         1.0\n",
      "     features1  features2  corr_value\n",
      "6           55         27    1.000000\n",
      "89          55         28    0.984542\n",
      "94          55         56    0.984542\n",
      "146         55        168    0.971592\n",
      "340         55         26    0.906471\n",
      "412         55         29    0.889905\n",
      "464         55         59    0.872808\n",
      "501         55         54    0.858043\n",
      "    features1  features2  corr_value\n",
      "12         80         76    0.999639\n",
      "     features1  features2  corr_value\n",
      "14         182        180    0.999309\n",
      "411        182        181    0.891920\n",
      "420        182        179    0.887881\n",
      "     features1  features2  corr_value\n",
      "18         220        221    0.998978\n",
      "34         220        100    0.996027\n",
      "37         220        130    0.996027\n",
      "163        220        123    0.968460\n",
      "214        220        147    0.945985\n",
      "339        220        218    0.906773\n",
      "     features1  features2  corr_value\n",
      "20          14         17    0.998268\n",
      "418         14         16    0.888829\n",
      "430         14         13    0.884528\n",
      "     features1  features2  corr_value\n",
      "22          79         75    0.997895\n",
      "290         79         78    0.924509\n",
      "293         79         82    0.924409\n",
      "371         79        178    0.899640\n",
      "498         79        172    0.858715\n",
      "     features1  features2  corr_value\n",
      "24         192        164    0.997722\n",
      "288        192        189    0.924586\n",
      "366        192        191    0.902160\n",
      "    features1  features2  corr_value\n",
      "26        115        114    0.997564\n",
      "     features1  features2  corr_value\n",
      "32         107        207    0.996469\n",
      "79         107        208    0.987490\n",
      "226        107        109    0.943435\n",
      "329        107        205    0.911424\n",
      "     features1  features2  corr_value\n",
      "38          49         21    0.995872\n",
      "296         49        165    0.924121\n",
      "468         49         99    0.872330\n",
      "484         49         39    0.862160\n",
      "     features1  features2  corr_value\n",
      "40         176          9    0.995491\n",
      "124        176          8    0.977777\n",
      "209        176        175    0.948624\n",
      "     features1  features2  corr_value\n",
      "42          87         19    0.994812\n",
      "391         87        184    0.894371\n",
      "     features1  features2  corr_value\n",
      "45         119         19    0.994812\n",
      "393        119        184    0.894371\n",
      "     features1  features2  corr_value\n",
      "46         214        111    0.994539\n",
      "51         214        215    0.993871\n",
      "200        214        213    0.950188\n",
      "294        214        118    0.924339\n",
      "     features1  features2  corr_value\n",
      "54         113        106    0.993512\n",
      "96         113        203    0.983377\n",
      "137        113        122    0.975637\n",
      "139        113        204    0.974640\n",
      "316        113        201    0.915972\n",
      "     features1  features2  corr_value\n",
      "58         102         10    0.993242\n",
      "179        102         74    0.962638\n",
      "194        102         73    0.955192\n",
      "    features1  features2  corr_value\n",
      "68         18         15    0.990243\n",
      "     features1  features2  corr_value\n",
      "72         199        105    0.988634\n",
      "154        199        200    0.970682\n",
      "     features1  features2  corr_value\n",
      "74          85         86    0.988555\n",
      "129         85         62    0.976990\n",
      "171         85         63    0.965301\n",
      "     features1  features2  corr_value\n",
      "82         211        212    0.986452\n",
      "279        211        209    0.929306\n",
      "     features1  features2  corr_value\n",
      "84         174          6    0.986042\n",
      "118        174        173    0.979471\n",
      "192        174          7    0.955663\n",
      "     features1  features2  corr_value\n",
      "100        150        149    0.982667\n",
      "228        150        151    0.942860\n",
      "287        150        148    0.924779\n",
      "453        150         40    0.878397\n",
      "     features1  features2  corr_value\n",
      "106         33         35    0.981668\n",
      "180         33         37    0.961639\n",
      "230         33         34    0.942617\n",
      "     features1  features2  corr_value\n",
      "108         47         89      0.9811\n",
      "     features1  features2  corr_value\n",
      "134         77         81    0.976041\n",
      "158         77        177    0.969167\n",
      "334         77         78    0.909309\n",
      "373         77         82    0.899416\n",
      "401         77        178    0.892827\n",
      "483         77        171    0.865390\n",
      "     features1  features2  corr_value\n",
      "142         44         43    0.974164\n",
      "222         44         96    0.943971\n",
      "318         44         93    0.913456\n",
      "     features1  features2  corr_value\n",
      "150         68         70    0.971481\n",
      "459         68         34    0.876622\n",
      "     features1  features2  corr_value\n",
      "182         58         57    0.960556\n",
      "463         58        169    0.873121\n",
      "520         58        108    0.852894\n",
      "     features1  features2  corr_value\n",
      "184        167         25    0.960544\n",
      "186        167         53    0.960544\n",
      "     features1  features2  corr_value\n",
      "190         20         48    0.956784\n",
      "     features1  features2  corr_value\n",
      "219         41         40    0.945008\n",
      "381         41        148    0.897611\n",
      "449         41        151    0.880398\n",
      "     features1  features2  corr_value\n",
      "224        163        162    0.943497\n",
      "     features1  features2  corr_value\n",
      "248         90         91    0.938967\n",
      "     features1  features2  corr_value\n",
      "250        183        143    0.937678\n",
      "     features1  features2  corr_value\n",
      "253        128        143    0.937678\n",
      "     features1  features2  corr_value\n",
      "261        142        147    0.933636\n",
      "362        142        123    0.902732\n",
      "     features1  features2  corr_value\n",
      "262        127        147    0.933636\n",
      "364        127        123    0.902732\n",
      "     features1  features2  corr_value\n",
      "284         11          4    0.926345\n",
      "490         11         12    0.861091\n",
      "     features1  features2  corr_value\n",
      "307        166         51     0.92231\n",
      "309        166         23     0.92231\n",
      "     features1  features2  corr_value\n",
      "332         84         99    0.909353\n",
      "385         84         39    0.894656\n",
      "     features1  features2  corr_value\n",
      "348        141        218    0.904901\n",
      "     features1  features2  corr_value\n",
      "351        219        218    0.904901\n",
      "     features1  features2  corr_value\n",
      "374        138        156    0.898029\n",
      "376        138        125    0.898029\n",
      "     features1  features2  corr_value\n",
      "378        195        196    0.897852\n",
      "     features1  features2  corr_value\n",
      "398         64         65    0.893865\n",
      "     features1  features2  corr_value\n",
      "416        154         45    0.889285\n",
      "     features1  features2  corr_value\n",
      "434        206        137    0.882534\n",
      "     features1  features2  corr_value\n",
      "445          5         12    0.880788\n",
      "470          5          4    0.871544\n",
      "524          5        172    0.850782\n",
      "     features1  features2  corr_value\n",
      "478        140        157    0.867632\n",
      "     features1  features2  corr_value\n",
      "486        187        185    0.861732\n",
      "     features1  features2  corr_value\n",
      "496        145        144    0.859122\n"
     ]
    }
   ],
   "source": [
    "#if we want to see the group in that we can by the below way\n",
    "for group in correlated_grouped_list:\n",
    "    print(group)"
   ]
  },
  {
   "cell_type": "markdown",
   "metadata": {},
   "source": [
    "But here,We are now going to put 54 more features so that from  each group."
   ]
  },
  {
   "cell_type": "markdown",
   "metadata": {},
   "source": [
    "### Feature importance based on tress based classifiers."
   ]
  },
  {
   "cell_type": "markdown",
   "metadata": {},
   "source": [
    "So, We are going to do a feature important based on the tree based classifier."
   ]
  },
  {
   "cell_type": "code",
   "execution_count": 61,
   "metadata": {},
   "outputs": [],
   "source": [
    "#first we had created the empty list for important features.\n",
    "important_features = []\n",
    "\n",
    "#then we go group by group and from the correlated_grouped_list\n",
    "#In each group we are calculating here most important feature which is located at 0 i.e feat = importance.iloc[0]\n",
    "#Because we had sorted in the desecending order i.e.    importance.sort_values(by = 'importance', ascending = False,inplace = True )\n",
    "#Once we got the most important feature from each group then we make here list of the most important features for each group.\n",
    "#now we got feature list that we can print by calling important_features.\n",
    "\n",
    "#then we go group by group \n",
    "for group in correlated_grouped_list:\n",
    "    \n",
    " \n",
    "#In each group  having the unique feature if we observed that unique features from group and feature1 couluns similarly for the feature2 column\n",
    "#we added them given the name that variable as features i.e. common for all with combine unique features from each group.\n",
    "                                                     \n",
    "    features = list(group.features1.unique()) + list(group.features2.unique())\n",
    "\n",
    "#Afterwards use the Randomforestclassifier \n",
    "\n",
    "                                                     \n",
    "    rf = RandomForestClassifier(n_estimators=1000,random_state=0)\n",
    "    \n",
    "#fit the model on the data x_train_unique[features],y_train\n",
    "#here,x_train_unique[features] is noting but x_train_unique is the  data with inclusion of the unique feature avalile in each group. .\n",
    "\n",
    "    rf.fit(x_train_unique[features],y_train) \n",
    "\n",
    "#to get imporatnce feature we have to concatenate two kind of series.\n",
    "#First is filled with the combine unique features of eah group.\n",
    "#Second Series of the dataframe which is filled with the whhichever feature the randomforest classifier gives us those important features avalible in that.\n",
    "\n",
    "#rf.feature_importances_ gives us the imporatnt features \n",
    "#features only giving  unique features of avalible in group.\n",
    "\n",
    "    \n",
    "    importance = pd.concat([pd.Series(features),pd.Series(rf.feature_importances_)],axis =1)\n",
    "    \n",
    "#create the two columns for the importance \n",
    "#first = feature(it only providing the unique features avalible ) \n",
    "#second = importance(it providing the imporatnt feature in each group)\n",
    "\n",
    "    importance.columns = ['features','importance'] \n",
    "    \n",
    "#sort the value of the importance in ascending format so higher values come first with the starting of imporatance.\n",
    "\n",
    "    importance.sort_values(by = 'importance', ascending = False,inplace = True )\n",
    "    \n",
    "#start to get the lower values from the position zeroth ith location of the imporatnce column.\n",
    "\n",
    "    feat = importance.iloc[0]\n",
    "#then lastly it added the imporance which having two columns feature and importance data in sorted manner .\n",
    "    important_features.append(feat)"
   ]
  },
  {
   "cell_type": "code",
   "execution_count": 62,
   "metadata": {},
   "outputs": [
    {
     "data": {
      "text/plain": [
       "[features      23.000000\n",
       " importance     0.290988\n",
       " Name: 2, dtype: float64, features      25.000000\n",
       " importance     0.322323\n",
       " Name: 4, dtype: float64, features      104.000000\n",
       " importance      0.522979\n",
       " Name: 1, dtype: float64, features      168.000000\n",
       " importance      0.384278\n",
       " Name: 4, dtype: float64, features      80.000000\n",
       " importance     0.506065\n",
       " Name: 0, dtype: float64, features      180.000000\n",
       " importance      0.437209\n",
       " Name: 1, dtype: float64, features      147.000000\n",
       " importance      0.160047\n",
       " Name: 5, dtype: float64, features      14.000000\n",
       " importance     0.360843\n",
       " Name: 0, dtype: float64, features      82.000000\n",
       " importance     0.186798\n",
       " Name: 3, dtype: float64, features      192.000000\n",
       " importance      0.359525\n",
       " Name: 0, dtype: float64, features      114.000000\n",
       " importance      0.523164\n",
       " Name: 1, dtype: float64, features      109.000000\n",
       " importance      0.270426\n",
       " Name: 3, dtype: float64, features      165.000000\n",
       " importance      0.476715\n",
       " Name: 2, dtype: float64, features      9.00000\n",
       " importance    0.30866\n",
       " Name: 1, dtype: float64, features      19.000000\n",
       " importance     0.443676\n",
       " Name: 1, dtype: float64, features      19.000000\n",
       " importance     0.443676\n",
       " Name: 1, dtype: float64, features      118.000000\n",
       " importance      0.621775\n",
       " Name: 4, dtype: float64, features      122.000000\n",
       " importance      0.995193\n",
       " Name: 3, dtype: float64, features      10.000000\n",
       " importance     0.345847\n",
       " Name: 1, dtype: float64, features      15.000000\n",
       " importance     0.505214\n",
       " Name: 1, dtype: float64, features      200.000000\n",
       " importance      0.356489\n",
       " Name: 2, dtype: float64, features      85.000000\n",
       " importance     0.484196\n",
       " Name: 0, dtype: float64, features      212.000\n",
       " importance      0.356\n",
       " Name: 1, dtype: float64, features      6.000000\n",
       " importance    0.266495\n",
       " Name: 1, dtype: float64, features      40.000000\n",
       " importance     0.333204\n",
       " Name: 4, dtype: float64, features      37.000000\n",
       " importance     0.351427\n",
       " Name: 2, dtype: float64, features      47.000000\n",
       " importance     0.541774\n",
       " Name: 0, dtype: float64, features      178.000000\n",
       " importance      0.196509\n",
       " Name: 5, dtype: float64, features      96.000000\n",
       " importance     0.476923\n",
       " Name: 2, dtype: float64, features      70.000000\n",
       " importance     0.484083\n",
       " Name: 1, dtype: float64, features      108.000\n",
       " importance      0.354\n",
       " Name: 3, dtype: float64, features      25.000\n",
       " importance     0.356\n",
       " Name: 1, dtype: float64, features      48.000000\n",
       " importance     0.683515\n",
       " Name: 1, dtype: float64, features      40.000000\n",
       " importance     0.288148\n",
       " Name: 1, dtype: float64, features      162.00000\n",
       " importance      0.81676\n",
       " Name: 1, dtype: float64, features      91.000000\n",
       " importance     0.591767\n",
       " Name: 1, dtype: float64, features      143.000000\n",
       " importance      0.510613\n",
       " Name: 1, dtype: float64, features      143.000000\n",
       " importance      0.510613\n",
       " Name: 1, dtype: float64, features      147.000000\n",
       " importance      0.445206\n",
       " Name: 1, dtype: float64, features      147.000000\n",
       " importance      0.389844\n",
       " Name: 1, dtype: float64, features      11.000000\n",
       " importance     0.357875\n",
       " Name: 0, dtype: float64, features      166.000000\n",
       " importance      0.785356\n",
       " Name: 0, dtype: float64, features      84.000000\n",
       " importance     0.374779\n",
       " Name: 0, dtype: float64, features      218.000000\n",
       " importance      0.761991\n",
       " Name: 1, dtype: float64, features      218.000000\n",
       " importance      0.761991\n",
       " Name: 1, dtype: float64, features      125.000000\n",
       " importance      0.484199\n",
       " Name: 2, dtype: float64, features      196.00000\n",
       " importance      0.57198\n",
       " Name: 1, dtype: float64, features      64.0000\n",
       " importance     0.5867\n",
       " Name: 0, dtype: float64, features      154.000000\n",
       " importance      0.805808\n",
       " Name: 0, dtype: float64, features      137.000000\n",
       " importance      0.607398\n",
       " Name: 1, dtype: float64, features      4.000000\n",
       " importance    0.332152\n",
       " Name: 2, dtype: float64, features      140.000000\n",
       " importance      0.608851\n",
       " Name: 0, dtype: float64, features      185.000000\n",
       " importance      0.788932\n",
       " Name: 1, dtype: float64, features      145.000000\n",
       " importance      0.629176\n",
       " Name: 0, dtype: float64]"
      ]
     },
     "execution_count": 62,
     "metadata": {},
     "output_type": "execute_result"
    }
   ],
   "source": [
    "important_features"
   ]
  },
  {
   "cell_type": "code",
   "execution_count": 64,
   "metadata": {},
   "outputs": [
    {
     "data": {
      "text/html": [
       "<div>\n",
       "<style scoped>\n",
       "    .dataframe tbody tr th:only-of-type {\n",
       "        vertical-align: middle;\n",
       "    }\n",
       "\n",
       "    .dataframe tbody tr th {\n",
       "        vertical-align: top;\n",
       "    }\n",
       "\n",
       "    .dataframe thead th {\n",
       "        text-align: right;\n",
       "    }\n",
       "</style>\n",
       "<table border=\"1\" class=\"dataframe\">\n",
       "  <thead>\n",
       "    <tr style=\"text-align: right;\">\n",
       "      <th></th>\n",
       "      <th>features</th>\n",
       "      <th>importance</th>\n",
       "    </tr>\n",
       "  </thead>\n",
       "  <tbody>\n",
       "    <tr>\n",
       "      <td>0</td>\n",
       "      <td>23.0</td>\n",
       "      <td>0.290988</td>\n",
       "    </tr>\n",
       "    <tr>\n",
       "      <td>1</td>\n",
       "      <td>25.0</td>\n",
       "      <td>0.322323</td>\n",
       "    </tr>\n",
       "    <tr>\n",
       "      <td>2</td>\n",
       "      <td>104.0</td>\n",
       "      <td>0.522979</td>\n",
       "    </tr>\n",
       "    <tr>\n",
       "      <td>3</td>\n",
       "      <td>168.0</td>\n",
       "      <td>0.384278</td>\n",
       "    </tr>\n",
       "    <tr>\n",
       "      <td>4</td>\n",
       "      <td>80.0</td>\n",
       "      <td>0.506065</td>\n",
       "    </tr>\n",
       "    <tr>\n",
       "      <td>5</td>\n",
       "      <td>180.0</td>\n",
       "      <td>0.437209</td>\n",
       "    </tr>\n",
       "    <tr>\n",
       "      <td>6</td>\n",
       "      <td>147.0</td>\n",
       "      <td>0.160047</td>\n",
       "    </tr>\n",
       "    <tr>\n",
       "      <td>7</td>\n",
       "      <td>14.0</td>\n",
       "      <td>0.360843</td>\n",
       "    </tr>\n",
       "    <tr>\n",
       "      <td>8</td>\n",
       "      <td>82.0</td>\n",
       "      <td>0.186798</td>\n",
       "    </tr>\n",
       "    <tr>\n",
       "      <td>9</td>\n",
       "      <td>192.0</td>\n",
       "      <td>0.359525</td>\n",
       "    </tr>\n",
       "    <tr>\n",
       "      <td>10</td>\n",
       "      <td>114.0</td>\n",
       "      <td>0.523164</td>\n",
       "    </tr>\n",
       "    <tr>\n",
       "      <td>11</td>\n",
       "      <td>109.0</td>\n",
       "      <td>0.270426</td>\n",
       "    </tr>\n",
       "    <tr>\n",
       "      <td>12</td>\n",
       "      <td>165.0</td>\n",
       "      <td>0.476715</td>\n",
       "    </tr>\n",
       "    <tr>\n",
       "      <td>13</td>\n",
       "      <td>9.0</td>\n",
       "      <td>0.308660</td>\n",
       "    </tr>\n",
       "    <tr>\n",
       "      <td>14</td>\n",
       "      <td>19.0</td>\n",
       "      <td>0.443676</td>\n",
       "    </tr>\n",
       "    <tr>\n",
       "      <td>15</td>\n",
       "      <td>19.0</td>\n",
       "      <td>0.443676</td>\n",
       "    </tr>\n",
       "    <tr>\n",
       "      <td>16</td>\n",
       "      <td>118.0</td>\n",
       "      <td>0.621775</td>\n",
       "    </tr>\n",
       "    <tr>\n",
       "      <td>17</td>\n",
       "      <td>122.0</td>\n",
       "      <td>0.995193</td>\n",
       "    </tr>\n",
       "    <tr>\n",
       "      <td>18</td>\n",
       "      <td>10.0</td>\n",
       "      <td>0.345847</td>\n",
       "    </tr>\n",
       "    <tr>\n",
       "      <td>19</td>\n",
       "      <td>15.0</td>\n",
       "      <td>0.505214</td>\n",
       "    </tr>\n",
       "    <tr>\n",
       "      <td>20</td>\n",
       "      <td>200.0</td>\n",
       "      <td>0.356489</td>\n",
       "    </tr>\n",
       "    <tr>\n",
       "      <td>21</td>\n",
       "      <td>85.0</td>\n",
       "      <td>0.484196</td>\n",
       "    </tr>\n",
       "    <tr>\n",
       "      <td>22</td>\n",
       "      <td>212.0</td>\n",
       "      <td>0.356000</td>\n",
       "    </tr>\n",
       "    <tr>\n",
       "      <td>23</td>\n",
       "      <td>6.0</td>\n",
       "      <td>0.266495</td>\n",
       "    </tr>\n",
       "    <tr>\n",
       "      <td>24</td>\n",
       "      <td>40.0</td>\n",
       "      <td>0.333204</td>\n",
       "    </tr>\n",
       "    <tr>\n",
       "      <td>25</td>\n",
       "      <td>37.0</td>\n",
       "      <td>0.351427</td>\n",
       "    </tr>\n",
       "    <tr>\n",
       "      <td>26</td>\n",
       "      <td>47.0</td>\n",
       "      <td>0.541774</td>\n",
       "    </tr>\n",
       "    <tr>\n",
       "      <td>27</td>\n",
       "      <td>178.0</td>\n",
       "      <td>0.196509</td>\n",
       "    </tr>\n",
       "    <tr>\n",
       "      <td>28</td>\n",
       "      <td>96.0</td>\n",
       "      <td>0.476923</td>\n",
       "    </tr>\n",
       "    <tr>\n",
       "      <td>29</td>\n",
       "      <td>70.0</td>\n",
       "      <td>0.484083</td>\n",
       "    </tr>\n",
       "    <tr>\n",
       "      <td>30</td>\n",
       "      <td>108.0</td>\n",
       "      <td>0.354000</td>\n",
       "    </tr>\n",
       "    <tr>\n",
       "      <td>31</td>\n",
       "      <td>25.0</td>\n",
       "      <td>0.356000</td>\n",
       "    </tr>\n",
       "    <tr>\n",
       "      <td>32</td>\n",
       "      <td>48.0</td>\n",
       "      <td>0.683515</td>\n",
       "    </tr>\n",
       "    <tr>\n",
       "      <td>33</td>\n",
       "      <td>40.0</td>\n",
       "      <td>0.288148</td>\n",
       "    </tr>\n",
       "    <tr>\n",
       "      <td>34</td>\n",
       "      <td>162.0</td>\n",
       "      <td>0.816760</td>\n",
       "    </tr>\n",
       "    <tr>\n",
       "      <td>35</td>\n",
       "      <td>91.0</td>\n",
       "      <td>0.591767</td>\n",
       "    </tr>\n",
       "    <tr>\n",
       "      <td>36</td>\n",
       "      <td>143.0</td>\n",
       "      <td>0.510613</td>\n",
       "    </tr>\n",
       "    <tr>\n",
       "      <td>37</td>\n",
       "      <td>143.0</td>\n",
       "      <td>0.510613</td>\n",
       "    </tr>\n",
       "    <tr>\n",
       "      <td>38</td>\n",
       "      <td>147.0</td>\n",
       "      <td>0.445206</td>\n",
       "    </tr>\n",
       "    <tr>\n",
       "      <td>39</td>\n",
       "      <td>147.0</td>\n",
       "      <td>0.389844</td>\n",
       "    </tr>\n",
       "    <tr>\n",
       "      <td>40</td>\n",
       "      <td>11.0</td>\n",
       "      <td>0.357875</td>\n",
       "    </tr>\n",
       "    <tr>\n",
       "      <td>41</td>\n",
       "      <td>166.0</td>\n",
       "      <td>0.785356</td>\n",
       "    </tr>\n",
       "    <tr>\n",
       "      <td>42</td>\n",
       "      <td>84.0</td>\n",
       "      <td>0.374779</td>\n",
       "    </tr>\n",
       "    <tr>\n",
       "      <td>43</td>\n",
       "      <td>218.0</td>\n",
       "      <td>0.761991</td>\n",
       "    </tr>\n",
       "    <tr>\n",
       "      <td>44</td>\n",
       "      <td>218.0</td>\n",
       "      <td>0.761991</td>\n",
       "    </tr>\n",
       "    <tr>\n",
       "      <td>45</td>\n",
       "      <td>125.0</td>\n",
       "      <td>0.484199</td>\n",
       "    </tr>\n",
       "    <tr>\n",
       "      <td>46</td>\n",
       "      <td>196.0</td>\n",
       "      <td>0.571980</td>\n",
       "    </tr>\n",
       "    <tr>\n",
       "      <td>47</td>\n",
       "      <td>64.0</td>\n",
       "      <td>0.586700</td>\n",
       "    </tr>\n",
       "    <tr>\n",
       "      <td>48</td>\n",
       "      <td>154.0</td>\n",
       "      <td>0.805808</td>\n",
       "    </tr>\n",
       "    <tr>\n",
       "      <td>49</td>\n",
       "      <td>137.0</td>\n",
       "      <td>0.607398</td>\n",
       "    </tr>\n",
       "    <tr>\n",
       "      <td>50</td>\n",
       "      <td>4.0</td>\n",
       "      <td>0.332152</td>\n",
       "    </tr>\n",
       "    <tr>\n",
       "      <td>51</td>\n",
       "      <td>140.0</td>\n",
       "      <td>0.608851</td>\n",
       "    </tr>\n",
       "    <tr>\n",
       "      <td>52</td>\n",
       "      <td>185.0</td>\n",
       "      <td>0.788932</td>\n",
       "    </tr>\n",
       "    <tr>\n",
       "      <td>53</td>\n",
       "      <td>145.0</td>\n",
       "      <td>0.629176</td>\n",
       "    </tr>\n",
       "  </tbody>\n",
       "</table>\n",
       "</div>"
      ],
      "text/plain": [
       "    features  importance\n",
       "0       23.0    0.290988\n",
       "1       25.0    0.322323\n",
       "2      104.0    0.522979\n",
       "3      168.0    0.384278\n",
       "4       80.0    0.506065\n",
       "5      180.0    0.437209\n",
       "6      147.0    0.160047\n",
       "7       14.0    0.360843\n",
       "8       82.0    0.186798\n",
       "9      192.0    0.359525\n",
       "10     114.0    0.523164\n",
       "11     109.0    0.270426\n",
       "12     165.0    0.476715\n",
       "13       9.0    0.308660\n",
       "14      19.0    0.443676\n",
       "15      19.0    0.443676\n",
       "16     118.0    0.621775\n",
       "17     122.0    0.995193\n",
       "18      10.0    0.345847\n",
       "19      15.0    0.505214\n",
       "20     200.0    0.356489\n",
       "21      85.0    0.484196\n",
       "22     212.0    0.356000\n",
       "23       6.0    0.266495\n",
       "24      40.0    0.333204\n",
       "25      37.0    0.351427\n",
       "26      47.0    0.541774\n",
       "27     178.0    0.196509\n",
       "28      96.0    0.476923\n",
       "29      70.0    0.484083\n",
       "30     108.0    0.354000\n",
       "31      25.0    0.356000\n",
       "32      48.0    0.683515\n",
       "33      40.0    0.288148\n",
       "34     162.0    0.816760\n",
       "35      91.0    0.591767\n",
       "36     143.0    0.510613\n",
       "37     143.0    0.510613\n",
       "38     147.0    0.445206\n",
       "39     147.0    0.389844\n",
       "40      11.0    0.357875\n",
       "41     166.0    0.785356\n",
       "42      84.0    0.374779\n",
       "43     218.0    0.761991\n",
       "44     218.0    0.761991\n",
       "45     125.0    0.484199\n",
       "46     196.0    0.571980\n",
       "47      64.0    0.586700\n",
       "48     154.0    0.805808\n",
       "49     137.0    0.607398\n",
       "50       4.0    0.332152\n",
       "51     140.0    0.608851\n",
       "52     185.0    0.788932\n",
       "53     145.0    0.629176"
      ]
     },
     "execution_count": 64,
     "metadata": {},
     "output_type": "execute_result"
    }
   ],
   "source": [
    "#now make the DataFrame of important_features\n",
    "important_features = pd.DataFrame(important_features)\n",
    "important_features.reset_index(inplace = True,drop = True)\n",
    "important_features"
   ]
  },
  {
   "cell_type": "markdown",
   "metadata": {},
   "source": [
    "We had already to know that we had 54 group then we can see here also 0 to 53 that means 54."
   ]
  },
  {
   "cell_type": "code",
   "execution_count": 69,
   "metadata": {},
   "outputs": [],
   "source": [
    "#feature are to be consider means important features : features selected from the important_feature\n",
    "\n",
    "features_to_consider = set(important_features['features'])\n",
    "\n",
    "#feature which are to be discared it means the correlated_features and feature that was accpted due to high important.\n",
    "\n",
    "features_discarded   = set(correlated_features)  - set(features_to_consider)\n",
    "\n",
    "#make list of features which are discarded.\n",
    "\n",
    "features_discarded = list(features_discarded)\n"
   ]
  },
  {
   "cell_type": "markdown",
   "metadata": {},
   "source": [
    "Now we have to take a new datasets because we had discared correlated features and keeping the atleat the one features from one group."
   ]
  },
  {
   "cell_type": "markdown",
   "metadata": {},
   "source": [
    "We had taken the new datasets in that we pass the x_train_unique,x_test_unique data with drop of the feature which are discareded."
   ]
  },
  {
   "cell_type": "code",
   "execution_count": 71,
   "metadata": {},
   "outputs": [
    {
     "data": {
      "text/plain": [
       "(1600, 110)"
      ]
     },
     "execution_count": 71,
     "metadata": {},
     "output_type": "execute_result"
    }
   ],
   "source": [
    "x_train_grouped_uncorr = x_train_unique.drop(labels= features_discarded,axis =1)\n",
    "\n",
    "x_train_grouped_uncorr.shape"
   ]
  },
  {
   "cell_type": "code",
   "execution_count": 75,
   "metadata": {},
   "outputs": [
    {
     "data": {
      "text/plain": [
       "(400, 110)"
      ]
     },
     "execution_count": 75,
     "metadata": {},
     "output_type": "execute_result"
    }
   ],
   "source": [
    "x_test_grouped_uncorr = x_test_unique.drop(labels= features_discarded,axis=1)\n",
    "\n",
    "x_test_grouped_uncorr.shape"
   ]
  },
  {
   "cell_type": "markdown",
   "metadata": {},
   "source": [
    "We had taken the imporant features from each group then we use these features to get the accuracy."
   ]
  },
  {
   "cell_type": "code",
   "execution_count": 74,
   "metadata": {},
   "outputs": [
    {
     "name": "stdout",
     "output_type": "stream",
     "text": [
      "Accuracy :  0.955\n",
      "Wall time: 9.79 s\n"
     ]
    }
   ],
   "source": [
    "%%time \n",
    "randomforest(x_train_grouped_uncorr,x_test_grouped_uncorr,y_train,y_test)"
   ]
  },
  {
   "cell_type": "markdown",
   "metadata": {},
   "source": [
    "Lets check the same accuracy and computing time with the original dataset for the comparision."
   ]
  },
  {
   "cell_type": "code",
   "execution_count": 76,
   "metadata": {},
   "outputs": [
    {
     "name": "stdout",
     "output_type": "stream",
     "text": [
      "Accuracy :  0.955\n",
      "Wall time: 10.7 s\n"
     ]
    }
   ],
   "source": [
    "%%time\n",
    "randomforest(x_train,x_test,y_train,y_test)"
   ]
  },
  {
   "cell_type": "code",
   "execution_count": 78,
   "metadata": {},
   "outputs": [
    {
     "name": "stdout",
     "output_type": "stream",
     "text": [
      "Accuracy :  0.9575\n",
      "Wall time: 9.68 s\n"
     ]
    }
   ],
   "source": [
    "%%time\n",
    "randomforest(x_train_uncorr,x_test_uncorr,y_train,y_test)"
   ]
  },
  {
   "cell_type": "markdown",
   "metadata": {},
   "source": [
    "Time GAIN is 9% Decrease."
   ]
  },
  {
   "cell_type": "code",
   "execution_count": 79,
   "metadata": {},
   "outputs": [
    {
     "data": {
      "text/plain": [
       "9.295199182839635"
      ]
     },
     "execution_count": 79,
     "metadata": {},
     "output_type": "execute_result"
    }
   ],
   "source": [
    "(10.7-9.79)*100/9.79"
   ]
  },
  {
   "cell_type": "code",
   "execution_count": null,
   "metadata": {},
   "outputs": [],
   "source": []
  },
  {
   "cell_type": "code",
   "execution_count": null,
   "metadata": {},
   "outputs": [],
   "source": []
  },
  {
   "cell_type": "code",
   "execution_count": null,
   "metadata": {},
   "outputs": [],
   "source": []
  }
 ],
 "metadata": {
  "kernelspec": {
   "display_name": "Python 3",
   "language": "python",
   "name": "python3"
  },
  "language_info": {
   "codemirror_mode": {
    "name": "ipython",
    "version": 3
   },
   "file_extension": ".py",
   "mimetype": "text/x-python",
   "name": "python",
   "nbconvert_exporter": "python",
   "pygments_lexer": "ipython3",
   "version": "3.7.4"
  }
 },
 "nbformat": 4,
 "nbformat_minor": 2
}
